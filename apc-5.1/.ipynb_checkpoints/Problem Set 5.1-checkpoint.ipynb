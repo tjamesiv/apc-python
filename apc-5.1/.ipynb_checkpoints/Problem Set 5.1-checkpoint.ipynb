{
 "cells": [
  {
   "cell_type": "markdown",
   "metadata": {},
   "source": [
    "# Problem Set 5.1\n",
    "## A crash course in Python"
   ]
  },
  {
   "cell_type": "markdown",
   "metadata": {},
   "source": [
    "Press Shift + Enter to run the code in a cell."
   ]
  },
  {
   "cell_type": "code",
   "execution_count": 74,
   "metadata": {
    "collapsed": false
   },
   "outputs": [],
   "source": [
    "%matplotlib inline\n",
    "%run ../common/helper.py"
   ]
  },
  {
   "cell_type": "markdown",
   "metadata": {},
   "source": [
    "That code just performed a bit of set-up for us. Now we're ready to go!"
   ]
  },
  {
   "cell_type": "code",
   "execution_count": null,
   "metadata": {
    "collapsed": false
   },
   "outputs": [],
   "source": [
    "print(\"Hello, world!\")"
   ]
  },
  {
   "cell_type": "markdown",
   "metadata": {},
   "source": [
    "Just like in math, we can define variables and have them take on different values."
   ]
  },
  {
   "cell_type": "code",
   "execution_count": null,
   "metadata": {
    "collapsed": false
   },
   "outputs": [],
   "source": [
    "x = 2 + 8\n",
    "print(x)\n",
    "\n",
    "x = 6 - 5\n",
    "print(x)"
   ]
  },
  {
   "cell_type": "markdown",
   "metadata": {},
   "source": [
    "Now try this one."
   ]
  },
  {
   "cell_type": "code",
   "execution_count": null,
   "metadata": {
    "collapsed": false
   },
   "outputs": [],
   "source": [
    "a = 3\n",
    "b = 4\n",
    "c = a*b + a + b\n",
    "print(c)"
   ]
  },
  {
   "cell_type": "markdown",
   "metadata": {},
   "source": [
    "There is a host of mathematical operations under **NumPy** (abbreviated as np)."
   ]
  },
  {
   "cell_type": "code",
   "execution_count": null,
   "metadata": {
    "collapsed": false
   },
   "outputs": [],
   "source": [
    "p = np.sqrt(a*a + b*b)\n",
    "print(p)"
   ]
  },
  {
   "cell_type": "markdown",
   "metadata": {},
   "source": [
    "Does this produce a^b or b^a?"
   ]
  },
  {
   "cell_type": "code",
   "execution_count": null,
   "metadata": {
    "collapsed": false
   },
   "outputs": [],
   "source": [
    "q = np.power(a,b)\n",
    "print(q)"
   ]
  },
  {
   "cell_type": "markdown",
   "metadata": {},
   "source": [
    "This will give the magnitude of any number, real or complex."
   ]
  },
  {
   "cell_type": "code",
   "execution_count": null,
   "metadata": {
    "collapsed": false
   },
   "outputs": [],
   "source": [
    "r = np.absolute(b - a)\n",
    "print(r)"
   ]
  },
  {
   "cell_type": "markdown",
   "metadata": {},
   "source": [
    "## Defining new functions\n",
    "We can also define functions of our own in Python.\n",
    "\n",
    "This function takes any number as input and returns three times the number."
   ]
  },
  {
   "cell_type": "code",
   "execution_count": null,
   "metadata": {
    "collapsed": false
   },
   "outputs": [],
   "source": [
    "def triple(x):\n",
    "    return 3*x\n",
    "\n",
    "# Notice the indentation above.\n",
    "\n",
    "print(triple(5))"
   ]
  },
  {
   "cell_type": "markdown",
   "metadata": {},
   "source": [
    "### Your turn\n",
    "1. In the space below, write a function that takes an input, subtracts 7, and doubles the result.\n",
    "2. Give your function any name you like.\n",
    "3. Call your function on the input \"10\" and print the result."
   ]
  },
  {
   "cell_type": "code",
   "execution_count": null,
   "metadata": {
    "collapsed": true
   },
   "outputs": [],
   "source": []
  },
  {
   "cell_type": "markdown",
   "metadata": {},
   "source": [
    "## Loops\n",
    "We can use this structure (called a \"for\" loop) to execute one or more lines of code multiple times."
   ]
  },
  {
   "cell_type": "code",
   "execution_count": null,
   "metadata": {
    "collapsed": false
   },
   "outputs": [],
   "source": [
    "for i in range(10):\n",
    "    print(triple(i))"
   ]
  },
  {
   "cell_type": "markdown",
   "metadata": {},
   "source": [
    "Now try this one. (Did you notice the intendation again?)"
   ]
  },
  {
   "cell_type": "code",
   "execution_count": null,
   "metadata": {
    "collapsed": false
   },
   "outputs": [],
   "source": [
    "for n in range(3, 8):\n",
    "    print(5 * n)"
   ]
  },
  {
   "cell_type": "markdown",
   "metadata": {},
   "source": [
    "### Your turn\n",
    "In the space below, write a loop that prints out the first 10 even numbers, starting with 0."
   ]
  },
  {
   "cell_type": "code",
   "execution_count": null,
   "metadata": {
    "collapsed": true
   },
   "outputs": [],
   "source": []
  },
  {
   "cell_type": "markdown",
   "metadata": {},
   "source": [
    "## Complex numbers\n",
    "Numpy also lets us create complex numbers.\n",
    "Notice that Python uses j rather than i to represent the imaginary unit."
   ]
  },
  {
   "cell_type": "code",
   "execution_count": null,
   "metadata": {
    "collapsed": false
   },
   "outputs": [],
   "source": [
    "z = np.complex(1, 2)\n",
    "print(z)"
   ]
  },
  {
   "cell_type": "markdown",
   "metadata": {},
   "source": [
    "We can add and subtract complex numbers as usual."
   ]
  },
  {
   "cell_type": "code",
   "execution_count": null,
   "metadata": {
    "collapsed": false
   },
   "outputs": [],
   "source": [
    "w1 = np.complex(-3, 4)\n",
    "w2 = np.complex(2, -1)\n",
    "\n",
    "w3 = w1 + w2\n",
    "print(w3)"
   ]
  },
  {
   "cell_type": "markdown",
   "metadata": {},
   "source": [
    "Let's put these three complex numbers in a **list**.\n",
    "\n",
    "We use square brackets and commas to create a list."
   ]
  },
  {
   "cell_type": "code",
   "execution_count": null,
   "metadata": {
    "collapsed": false
   },
   "outputs": [],
   "source": [
    "my_list = [w1, w2, w3]\n",
    "print(my_list)"
   ]
  },
  {
   "cell_type": "markdown",
   "metadata": {},
   "source": [
    "I've provided a \"helper function\" that will generate a plot of a list of complex numbers.\n",
    "\n",
    "Note: You can choose between:\n",
    "* **`style=\"vectors\"`** for vectors emanating from the origin (this is the default option)\n",
    "* **`style=\"points\"`** for easy-to-see circles"
   ]
  },
  {
   "cell_type": "code",
   "execution_count": 75,
   "metadata": {
    "collapsed": false
   },
   "outputs": [
    {
     "data": {
      "image/png": "[encoded data removed]",
      "text/plain": [
       "<matplotlib.figure.Figure at 0x10f5d7b70>"
      ]
     },
     "metadata": {},
     "output_type": "display_data"
    },
    {
     "data": {
      "image/png": "[encoded data removed]",
      "text/plain": [
       "<matplotlib.figure.Figure at 0x10f79edd8>"
      ]
     },
     "metadata": {},
     "output_type": "display_data"
    }
   ],
   "source": [
    "plot_complex_list(my_list)\n",
    "plot_complex_list(my_list, style=\"points\")"
   ]
  },
  {
   "cell_type": "markdown",
   "metadata": {},
   "source": [
    "### Your Turn\n",
    "1. In the space below, create two complex numbers.\n",
    "2. Multiply them to produce a new complex number.\n",
    "3. Put all three complex numbers in a list.\n",
    "4. Plot all three complex numbers."
   ]
  },
  {
   "cell_type": "code",
   "execution_count": null,
   "metadata": {
    "collapsed": true
   },
   "outputs": [],
   "source": []
  },
  {
   "cell_type": "markdown",
   "metadata": {},
   "source": [
    "Now take the above code and embed it in a function."
   ]
  },
  {
   "cell_type": "code",
   "execution_count": null,
   "metadata": {
    "collapsed": false
   },
   "outputs": [],
   "source": [
    "def multiply(z1, z2):\n",
    "    # Fill me in!\n",
    "    return z1*z2 # Delete in student version"
   ]
  },
  {
   "cell_type": "markdown",
   "metadata": {},
   "source": [
    "## Conditional statements"
   ]
  },
  {
   "cell_type": "markdown",
   "metadata": {},
   "source": [
    "Notice the single equals sign to *assign* a value to a variable."
   ]
  },
  {
   "cell_type": "code",
   "execution_count": null,
   "metadata": {
    "collapsed": false
   },
   "outputs": [],
   "source": [
    "y = 3\n",
    "x = input(\"Enter a number: \")"
   ]
  },
  {
   "cell_type": "markdown",
   "metadata": {},
   "source": [
    "Notice the double equals signs to *test* for equality. (Also, indentation again!)"
   ]
  },
  {
   "cell_type": "code",
   "execution_count": null,
   "metadata": {
    "collapsed": false
   },
   "outputs": [],
   "source": [
    "if float(x) + y == 5:\n",
    "    print(\"Your number was 2.\")\n",
    "else:\n",
    "    print(\"Your number was definitely not 2.\")"
   ]
  },
  {
   "cell_type": "markdown",
   "metadata": {},
   "source": [
    "Run this next block of code a few times until you can get all three possible outputs."
   ]
  },
  {
   "cell_type": "code",
   "execution_count": null,
   "metadata": {
    "collapsed": false
   },
   "outputs": [],
   "source": [
    "a = input(\"Enter the real part: \")\n",
    "b = input(\"Enter the imaginary part: \")\n",
    "\n",
    "z = complex(float(a), float(b))\n",
    "\n",
    "if np.absolute(z) > 5:\n",
    "    print(\"The magnitude is greater than 5.\")\n",
    "elif np.absolute(z) < 5:\n",
    "    print(\"The magnitude is less than 5.\")\n",
    "else:\n",
    "    print(\"The magnitude is equal to 5.\")"
   ]
  },
  {
   "cell_type": "markdown",
   "metadata": {},
   "source": [
    "Two comments here:\n",
    "* You can read `elif` as \"else if.\"\n",
    "* We needed to surround `a` and `b` with `float()` because the function `input()` returns a string, and we need to convert its output into a number (called a [floating point](https://en.wikipedia.org/wiki/Floating_point) in computing) before working with it."
   ]
  },
  {
   "cell_type": "markdown",
   "metadata": {},
   "source": [
    "### Your turn\n",
    "Write some code that prompts the user for two inputs, and reports whether their product is positive, negative, or zero.\n",
    "\n",
    "**Note:** As above, you will need to surround the input you receive from `input()` with `float()` before working with it."
   ]
  },
  {
   "cell_type": "code",
   "execution_count": null,
   "metadata": {
    "collapsed": true
   },
   "outputs": [],
   "source": []
  },
  {
   "cell_type": "markdown",
   "metadata": {},
   "source": [
    "## Iteration \n",
    "In math and computer science, **iteration** is the process of repeating a task over and over again. We did this above when we repeatedly tripled a number.\n",
    "\n",
    "What does the following block of code do?"
   ]
  },
  {
   "cell_type": "code",
   "execution_count": null,
   "metadata": {
    "collapsed": false,
    "scrolled": true
   },
   "outputs": [],
   "source": [
    "z = complex(0.28, 0.96)\n",
    "\n",
    "print(\"Before squaring z = \" + round_complex(z) + \" which has magnitude \" + round_magnitude(z))\n",
    "for i in range(10):\n",
    "    z = multiply(z, z) # Remember the \"multiply\" function we defined earlier?\n",
    "    print(\"After squaring \" + str(i + 1) + \" time(s), z = \" + round_complex(z) + \" which has magnitude \" + str(np.absolute(z)))"
   ]
  },
  {
   "cell_type": "markdown",
   "metadata": {},
   "source": [
    "Note: I've provided two rounding functions, `round_complex` and `round_magnitude`, that make complex numbers easier to read.\n",
    "\n",
    "Try changing the **initial value** and the **number of iterations** and running the code again."
   ]
  },
  {
   "cell_type": "markdown",
   "metadata": {},
   "source": [
    "### Visualizing orbits\n",
    "It'd be really nifty if we could visualize this sequence of complex numbers. To do this, we'll put the complex numbers in a list as they're generated.\n",
    "\n",
    "To _append_ means to add something at the end. For example, an _appendix_ is a section appended to a document."
   ]
  },
  {
   "cell_type": "code",
   "execution_count": null,
   "metadata": {
    "collapsed": false
   },
   "outputs": [],
   "source": [
    "z = complex(0.28, 0.96)\n",
    "\n",
    "# Create an empty list. This is where we'll store each complex number.\n",
    "my_list = []\n",
    "\n",
    "# Add z to the list.\n",
    "my_list.append(z)\n",
    "\n",
    "for i in range(10):\n",
    "    z = multiply(z, z)\n",
    "    my_list.append(z)\n",
    "    \n",
    "plot_complex_list(my_list)"
   ]
  },
  {
   "cell_type": "markdown",
   "metadata": {},
   "source": [
    "Try changing the **initial value** and the **number of iterations** and running the code again."
   ]
  },
  {
   "cell_type": "markdown",
   "metadata": {},
   "source": [
    "### A function for generating sequences\n",
    "It would be wonderful if we could re-use the code from before without having to re-type it every time."
   ]
  },
  {
   "cell_type": "code",
   "execution_count": null,
   "metadata": {
    "collapsed": true
   },
   "outputs": [],
   "source": [
    "# z: The initial complex number\n",
    "# n: The number of times to iterate\n",
    "\n",
    "# This function takes two inputs and returns a list of complex numbers. \n",
    "def generate_sequence(z, num_iterations):\n",
    "    \n",
    "    # This is where we'll store our sequence.\n",
    "    complex_sequence = [] \n",
    "    \n",
    "    # We can use this structure (called a \"for\" loop) to execute a line n times.\n",
    "    for i in range(num_iterations):\n",
    "        \n",
    "        # Put z at the end of the list\n",
    "        complex_sequence.append(z)\n",
    "        \n",
    "        # Now apply the \"rule\" to z\n",
    "        z = multiply(z, z)\n",
    "    \n",
    "    # Notice the indentation.\n",
    "    return complex_sequence"
   ]
  },
  {
   "cell_type": "markdown",
   "metadata": {},
   "source": [
    "Now, we can simply execute the following lines:"
   ]
  },
  {
   "cell_type": "code",
   "execution_count": null,
   "metadata": {
    "collapsed": false
   },
   "outputs": [],
   "source": [
    "# The initial value\n",
    "w = complex(0.28, 0.96)\n",
    "\n",
    "# The number of iterations\n",
    "n = 10\n",
    "\n",
    "# Get the list...\n",
    "my_list = generate_sequence(w, n)\n",
    "\n",
    "# ... and plot it!\n",
    "plot_complex_list(my_list, style=\"points\")"
   ]
  },
  {
   "cell_type": "markdown",
   "metadata": {},
   "source": [
    "### Putting it together\n",
    "Write a function with the following specifications:\n",
    "\n",
    "* Input: a single complex number\n",
    "* Output: `True` if repeatedly squaring the input causes the sequence to stay small forever; `False` otherwise"
   ]
  },
  {
   "cell_type": "code",
   "execution_count": null,
   "metadata": {
    "collapsed": true
   },
   "outputs": [],
   "source": [
    "def is_small_forever(z):\n",
    "    # Fill me in!\n",
    "    \n",
    "# I need to add a skeleton here. \n",
    "# Do I want to guide them towards using \"generate list\" and pop()?\n",
    "\n",
    "# OR just give them a hint that if after 100 iterations it's still within X units of the origin,\n",
    "# then we can suppose it converges?\n",
    "\n",
    "# ALSO add blank markdown boxes for explanations/answers"
   ]
  }
 ],
 "metadata": {
  "kernelspec": {
   "display_name": "Python 3",
   "language": "python",
   "name": "python3"
  },
  "language_info": {
   "codemirror_mode": {
    "name": "ipython",
    "version": 3
   },
   "file_extension": ".py",
   "mimetype": "text/x-python",
   "name": "python",
   "nbconvert_exporter": "python",
   "pygments_lexer": "ipython3",
   "version": "3.4.3"
  }
 },
 "nbformat": 4,
 "nbformat_minor": 0
}
