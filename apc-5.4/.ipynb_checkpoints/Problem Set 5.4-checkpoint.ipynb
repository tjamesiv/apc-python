{
 "cells": [
  {
   "cell_type": "markdown",
   "metadata": {},
   "source": [
    "# Problem Set 5.4\n",
    "## The Mandelbrot Set"
   ]
  },
  {
   "cell_type": "markdown",
   "metadata": {},
   "source": [
    "Remember to run this block first:"
   ]
  },
  {
   "cell_type": "code",
   "execution_count": null,
   "metadata": {
    "collapsed": false,
    "scrolled": true
   },
   "outputs": [],
   "source": [
    "%matplotlib inline\n",
    "%run ../common/helper.py"
   ]
  },
  {
   "cell_type": "markdown",
   "metadata": {},
   "source": [
    "Now let's load in the functions we came up with previously.\n",
    "\n",
    "* **`z`**: The initial complex number\n",
    "* **`c`**: The complex number we add to z squared each time\n",
    "* **`num_iterations`**: The number of times to iterate"
   ]
  },
  {
   "cell_type": "code",
   "execution_count": null,
   "metadata": {
    "collapsed": true,
    "scrolled": true
   },
   "outputs": [],
   "source": [
    "def square_and_add_c(z, c):\n",
    "    return z*z + c\n",
    "\n",
    "# This function takes three inputs and returns a list of complex numbers. \n",
    "def generate_sequence(z, c, num_iterations):\n",
    "    \n",
    "    # This is where we'll store our sequence.\n",
    "    complex_sequence = [] \n",
    "    \n",
    "    # Go through num_iterations times\n",
    "    for i in range(num_iterations):\n",
    "        \n",
    "        # Put z at the end of the list\n",
    "        complex_sequence.append(z)\n",
    "        \n",
    "        # Now apply the \"rule\" to z\n",
    "        z = square_and_add_c(z, c)\n",
    "    \n",
    "    # Notice the indentation.\n",
    "    return complex_sequence"
   ]
  },
  {
   "cell_type": "markdown",
   "metadata": {},
   "source": [
    "### A new type of fractal"
   ]
  },
  {
   "cell_type": "markdown",
   "metadata": {},
   "source": [
    "Now let's turn our attention to sequences in which the initial value **`z`** and the constant **`c`** are the same."
   ]
  },
  {
   "cell_type": "code",
   "execution_count": null,
   "metadata": {
    "collapsed": false,
    "scrolled": false
   },
   "outputs": [],
   "source": [
    "# This complex number will serve both as the initial value and the constant we add after squaring.\n",
    "w = complex(0.34, 0.352)\n",
    "\n",
    "# Notice that we've set z = w and c = w.\n",
    "my_list = generate_sequence(w, w, 100)\n",
    "\n",
    "# These two lines just create a slider for you to play with.\n",
    "step_slider = IntSlider(min=1, max=100, value=1)\n",
    "w = widgets.interact(render_plot, complex_list=fixed(my_list), num_iterations=step_slider)"
   ]
  },
  {
   "cell_type": "markdown",
   "metadata": {},
   "source": [
    "#### Question\n",
    "\n",
    "Does the previous sequence converge or diverge?\n",
    "\n",
    "* If you think the sequence converges, what complex number does it seem to approach? (Estimate)\n",
    "* If you think the sequence diverges, how many iterations does it take before you're convinced?"
   ]
  },
  {
   "cell_type": "code",
   "execution_count": null,
   "metadata": {
    "collapsed": true,
    "scrolled": true
   },
   "outputs": [],
   "source": [
    "Answer: "
   ]
  },
  {
   "cell_type": "markdown",
   "metadata": {},
   "source": [
    "Now change **`w`** and respond to the questions again."
   ]
  },
  {
   "cell_type": "code",
   "execution_count": null,
   "metadata": {
    "collapsed": true,
    "scrolled": false
   },
   "outputs": [],
   "source": [
    "Answer: "
   ]
  },
  {
   "cell_type": "markdown",
   "metadata": {},
   "source": [
    "Let's try this again for a small grid of numbers."
   ]
  },
  {
   "cell_type": "code",
   "execution_count": null,
   "metadata": {
    "collapsed": false
   },
   "outputs": [],
   "source": [
    "# This complex number will serve both as the initial value and the constant we add after squaring.\n",
    "w = complex(0.4, 0.4)\n",
    "\n",
    "# Next, try each of these by un-commenting them one-by-one.\n",
    "# w = complex(0, 0.4)\n",
    "# w = complex(-0.4, 0.4)\n",
    "# w = complex(0.4, 0)\n",
    "# w = complex(0, 0)\n",
    "# w = complex(-0.4, 0)\n",
    "# w = complex(0.4, -0.4)\n",
    "# w = complex(0, -0.4)\n",
    "# w = complex(-0.4, -0.4)\n",
    "\n",
    "# Notice that we've set z = w and c = w.\n",
    "my_list = generate_sequence(w, w, 12)\n",
    "\n",
    "# These two lines just create a slider for you to play with.\n",
    "step_slider = IntSlider(min=1, max=12, value=1)\n",
    "w = widgets.interact(render_plot, complex_list=fixed(my_list), num_iterations=step_slider)"
   ]
  },
  {
   "cell_type": "markdown",
   "metadata": {},
   "source": [
    "### Trying lots of values of `c` at once\n",
    "Now we update `iterations_to_diverge` so that the initial value **`z`** and the constant **`c`** are the same."
   ]
  },
  {
   "cell_type": "code",
   "execution_count": null,
   "metadata": {
    "collapsed": true,
    "scrolled": true
   },
   "outputs": [],
   "source": [
    "def iterations_to_diverge(z, max_iterations):\n",
    "    \n",
    "    # Store a copy of z in the variable c\n",
    "    c = z\n",
    "    \n",
    "    for n in range(max_iterations):\n",
    "        \n",
    "        # If we've gotten too far from the origin, we clearly aren't staying small.\n",
    "        if np.absolute(z) > 2:\n",
    "            \n",
    "            # Return the number of times we had to run through the loop before escaping.\n",
    "            return n\n",
    "        \n",
    "        # We're still close to the origin. Apply the rule again!\n",
    "        z = square_and_add_c(z, c)\n",
    "        \n",
    "    # Looks like we made it through the loop without ever getting too far from the origin.\n",
    "    # Return the number of times we actually applied the rule.    \n",
    "    return max_iterations"
   ]
  },
  {
   "cell_type": "markdown",
   "metadata": {},
   "source": [
    "## Putting it all together\n",
    "Instead of just trying a few complex numbers, let's try a million of them to see which lead to sequences of numbers that stay small forever."
   ]
  },
  {
   "cell_type": "code",
   "execution_count": null,
   "metadata": {
    "collapsed": false
   },
   "outputs": [],
   "source": [
    "my_grid = iterate_function_on_grid(iterations_to_diverge, resolution=1000, max_iterations=35)"
   ]
  },
  {
   "cell_type": "code",
   "execution_count": null,
   "metadata": {
    "collapsed": false
   },
   "outputs": [],
   "source": [
    "plot_complex_grid(my_grid, color_gradient=\"Spectral\")"
   ]
  },
  {
   "cell_type": "code",
   "execution_count": null,
   "metadata": {
    "collapsed": false
   },
   "outputs": [],
   "source": [
    "# This seems to be a bit bugged right now--it shows us a zoom in the second quadrant.\n",
    "zoom_box = [-1.5, -1, -0.5, 0]\n",
    "\n",
    "# This will take about a minute to run.\n",
    "my_grid = iterate_function_on_grid(iterations_to_diverge, zoom=True, boundary_box=zoom_box,\n",
    "                                   resolution=1000, max_iterations=40)\n",
    "\n",
    "# When it's finished, run the next block to plot the results."
   ]
  },
  {
   "cell_type": "markdown",
   "metadata": {},
   "source": [
    "[colormaps](https://micropore.files.wordpress.com/2010/06/colormaps.png)!"
   ]
  },
  {
   "cell_type": "code",
   "execution_count": null,
   "metadata": {
    "collapsed": true
   },
   "outputs": [],
   "source": [
    "# Try changing the color scheme.\n",
    "plot_complex_grid(my_grid, color_gradient=\"bone\", zoom=True, boundary_box=zoom_box)"
   ]
  }
 ],
 "metadata": {
  "kernelspec": {
   "display_name": "Python 3",
   "language": "python",
   "name": "python3"
  },
  "language_info": {
   "codemirror_mode": {
    "name": "ipython",
    "version": 3
   },
   "file_extension": ".py",
   "mimetype": "text/x-python",
   "name": "python",
   "nbconvert_exporter": "python",
   "pygments_lexer": "ipython3",
   "version": "3.4.3"
  }
 },
 "nbformat": 4,
 "nbformat_minor": 0
}
