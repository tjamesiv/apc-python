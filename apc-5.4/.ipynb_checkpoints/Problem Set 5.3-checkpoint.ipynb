{
 "cells": [
  {
   "cell_type": "markdown",
   "metadata": {},
   "source": [
    "## Problem Set 5.3\n",
    "### More Julia sets"
   ]
  },
  {
   "cell_type": "markdown",
   "metadata": {},
   "source": [
    "Remember to run this block first:"
   ]
  },
  {
   "cell_type": "code",
   "execution_count": 32,
   "metadata": {
    "collapsed": false
   },
   "outputs": [],
   "source": [
    "%matplotlib inline\n",
    "%run ../common/helper.py"
   ]
  },
  {
   "cell_type": "markdown",
   "metadata": {},
   "source": [
    "Let's write a more general version of our `square_and_subtract_one` function from before. Now, instead of subtracting one, let's *add **c***, where *c* is any complex number.\n",
    "\n",
    "This function will need to take **two arguments**."
   ]
  },
  {
   "cell_type": "code",
   "execution_count": 46,
   "metadata": {
    "collapsed": true
   },
   "outputs": [],
   "source": [
    "def square_and_add_c(z, c): # Remember to blank in student version\n",
    "    return z*z + c"
   ]
  },
  {
   "cell_type": "markdown",
   "metadata": {},
   "source": [
    "Try calling the previous function on these complex numbers:"
   ]
  },
  {
   "cell_type": "code",
   "execution_count": null,
   "metadata": {
    "collapsed": false,
    "scrolled": true
   },
   "outputs": [],
   "source": [
    "z1 = np.complex(1, 2)\n",
    "z2 = np.complex(0.3, 0.7)\n",
    "z3 = np.complex(np.sqrt(3)/2, 1.0/2.0)\n",
    "\n",
    "c = complex(-0.5, 0.25)\n",
    "\n",
    "z4 = square_and_add_c(z1, c) # Remove for student version\n",
    "z5 = square_and_add_c(z2, c)\n",
    "z6 = square_and_add_c(z3, c)\n",
    "\n",
    "print(\"The input \" + round_complex(z1) + \" produced the output \" + round_complex(z4))\n",
    "print(\"The input \" + round_complex(z2) + \" produced the output \" + round_complex(z5))\n",
    "print(\"The input \" + round_complex(z3) + \" produced the output \" + round_complex(z6))"
   ]
  },
  {
   "cell_type": "markdown",
   "metadata": {},
   "source": [
    "Try changing the initial values (**`z1`**, **`z2`**, and **`z3`**) as well as the constant **`c`** and running the code again."
   ]
  },
  {
   "cell_type": "markdown",
   "metadata": {},
   "source": [
    "### Convergent and divergent sequences\n",
    "\n",
    "Now we need to figure out which complex numbers will stay small forever for a given value of `c`.\n",
    "\n",
    "#### Question\n",
    "\n",
    "Does the following sequence converge or diverge?\n",
    "\n",
    "* If you think the sequence converges, what complex number does it seem to approach?\n",
    "* If you think the sequence diverges, how many iterations does it take before you're convinced?"
   ]
  },
  {
   "cell_type": "code",
   "execution_count": null,
   "metadata": {
    "collapsed": false
   },
   "outputs": [],
   "source": [
    "# The initial value\n",
    "z = complex(0.3, 0.5)\n",
    "\n",
    "# Give a few different initial values\n",
    "# z = complex(-0.2, 0.7)\n",
    "\n",
    "# The constant we're adding each time after squaring z\n",
    "c = complex(-0.5, 0.25)\n",
    "\n",
    "print(\"Before squaring and adding c = \" + round_complex(c) + \", z = \" + round_complex(z) + \" which has magnitude \" + round_magnitude(z))\n",
    "for i in range(0,10):\n",
    "    z = square_and_add_c(z, c)\n",
    "    print(\"After squaring and adding c = \" + round_complex(c) + \" \" + str(i + 1) + \" time(s), z = \"\n",
    "          + round_complex(z) + \" which has magnitude \" + round_magnitude(z))"
   ]
  },
  {
   "cell_type": "markdown",
   "metadata": {},
   "source": [
    "Try changing the initial values **`z1`** as well as the constant **`c`** and responding to the above questions a few more times."
   ]
  },
  {
   "cell_type": "markdown",
   "metadata": {},
   "source": [
    "### Another update to our function for generating sequences"
   ]
  },
  {
   "cell_type": "code",
   "execution_count": 27,
   "metadata": {
    "collapsed": true
   },
   "outputs": [],
   "source": [
    "# z: The initial complex number\n",
    "# c: The complex number we add to z squared each time\n",
    "# num_iterations: The number of times to iterate\n",
    "\n",
    "# This function takes three inputs and returns a list of complex numbers. \n",
    "def generate_sequence(z, c, num_iterations):\n",
    "    \n",
    "    # This is where we'll store our sequence.\n",
    "    complex_sequence = [] \n",
    "    \n",
    "    # Go through num_iterations times\n",
    "    for i in range(num_iterations):\n",
    "        \n",
    "        # Put z at the end of the list\n",
    "        complex_sequence.append(z)\n",
    "        \n",
    "        # Now apply the \"rule\" to z\n",
    "        z = square_and_add_c(z, c)\n",
    "    \n",
    "    # Notice the indentation.\n",
    "    return complex_sequence"
   ]
  },
  {
   "cell_type": "markdown",
   "metadata": {},
   "source": [
    "### Another Julia set"
   ]
  },
  {
   "cell_type": "code",
   "execution_count": 57,
   "metadata": {
    "collapsed": true
   },
   "outputs": [],
   "source": [
    "def is_small_forever(z, c):\n",
    "    for i in range(0, 20):\n",
    "        if np.absolute(z) > 2: # Blank this number in student version\n",
    "            return False\n",
    "        z = square_and_add_c(z, c)\n",
    "    return True    "
   ]
  },
  {
   "cell_type": "code",
   "execution_count": 58,
   "metadata": {
    "collapsed": false
   },
   "outputs": [
    {
     "data": {
      "image/png": "[encoded data removed]",
      "text/plain": [
       "<matplotlib.figure.Figure at 0x10d03a080>"
      ]
     },
     "metadata": {},
     "output_type": "display_data"
    }
   ],
   "source": [
    "c = complex(0, 0.7)\n",
    "\n",
    "my_list = []\n",
    "\n",
    "# Iterate over imaginary part\n",
    "for b in np.linspace(-2, 2, num=225):\n",
    "    \n",
    "    # Iterate over real part\n",
    "    for a in np.linspace(-2, 2, num=225):\n",
    "        \n",
    "        z = complex(a, b)\n",
    "        if is_small_forever(z, c):\n",
    "            my_list.append(z)\n",
    "\n",
    "plot_complex_list(my_list, style=\"pixels\", limit=2)            "
   ]
  },
  {
   "cell_type": "code",
   "execution_count": 52,
   "metadata": {
    "collapsed": false
   },
   "outputs": [
    {
     "data": {
      "text/plain": [
       "[]"
      ]
     },
     "execution_count": 52,
     "metadata": {},
     "output_type": "execute_result"
    }
   ],
   "source": []
  },
  {
   "cell_type": "code",
   "execution_count": 62,
   "metadata": {
    "collapsed": true
   },
   "outputs": [],
   "source": [
    "# Make the parameters clearer\n",
    "\n",
    "def iterations_to_diverge(z, c):\n",
    "    for n in range(40):\n",
    "        if np.absolute(z) > 2:\n",
    "            return n / 40.0\n",
    "        z = square_and_add_c(z, c)\n",
    "    return 1.0"
   ]
  },
  {
   "cell_type": "code",
   "execution_count": 63,
   "metadata": {
    "collapsed": false
   },
   "outputs": [
    {
     "data": {
      "image/png": "[encoded data removed]",
      "text/plain": [
       "<matplotlib.figure.Figure at 0x108923da0>"
      ]
     },
     "metadata": {},
     "output_type": "display_data"
    }
   ],
   "source": [
    "c = complex(0, 0.7)\n",
    "\n",
    "my_list = []\n",
    "\n",
    "# Iterate over imaginary part\n",
    "for b in np.linspace(-1.5, 1.5, num=225): # 225 is a good number\n",
    "    \n",
    "    # Iterate over real part\n",
    "    for a in np.linspace(-1.5, 1.5, num=225):\n",
    "        \n",
    "        z = complex(a, b)\n",
    "        my_list.append([z, iterations_to_diverge(z, c)])\n",
    "\n",
    "plot_complex_list(my_list, style=\"pixels\", colors=True, limit=1.5)        "
   ]
  },
  {
   "cell_type": "code",
   "execution_count": null,
   "metadata": {
    "collapsed": true
   },
   "outputs": [],
   "source": []
  },
  {
   "cell_type": "code",
   "execution_count": null,
   "metadata": {
    "collapsed": true
   },
   "outputs": [],
   "source": []
  },
  {
   "cell_type": "code",
   "execution_count": null,
   "metadata": {
    "collapsed": true
   },
   "outputs": [],
   "source": []
  },
  {
   "cell_type": "markdown",
   "metadata": {},
   "source": [
    "Should we save this for Mandelbrot?"
   ]
  },
  {
   "cell_type": "code",
   "execution_count": 42,
   "metadata": {
    "collapsed": false,
    "scrolled": true
   },
   "outputs": [
    {
     "name": "stdout",
     "output_type": "stream",
     "text": [
      "n = 1\n"
     ]
    },
    {
     "data": {
      "image/png": "[encoded data removed]",
      "text/plain": [
       "<matplotlib.figure.Figure at 0x1336d5780>"
      ]
     },
     "metadata": {},
     "output_type": "display_data"
    }
   ],
   "source": [
    "w = complex(0.34, 0.352)\n",
    "my_list = generate_sequence(w, w, 100)\n",
    "\n",
    "# These two lines just create a slider for you to play with.\n",
    "step_slider = IntSlider(min=1, max=100, value=1)\n",
    "w = widgets.interact(render_plot, complex_list=fixed(my_list), n=step_slider)"
   ]
  },
  {
   "cell_type": "code",
   "execution_count": null,
   "metadata": {
    "collapsed": true
   },
   "outputs": [],
   "source": []
  }
 ],
 "metadata": {
  "kernelspec": {
   "display_name": "Python 3",
   "language": "python",
   "name": "python3"
  },
  "language_info": {
   "codemirror_mode": {
    "name": "ipython",
    "version": 3
   },
   "file_extension": ".py",
   "mimetype": "text/x-python",
   "name": "python",
   "nbconvert_exporter": "python",
   "pygments_lexer": "ipython3",
   "version": "3.4.3"
  }
 },
 "nbformat": 4,
 "nbformat_minor": 0
}
