{
 "cells": [
  {
   "cell_type": "markdown",
   "metadata": {},
   "source": [
    "## Problem Set 5.3\n",
    "### The Mandelbrot Set"
   ]
  },
  {
   "cell_type": "markdown",
   "metadata": {},
   "source": [
    "Remember to run this block first:"
   ]
  },
  {
   "cell_type": "code",
   "execution_count": 203,
   "metadata": {
    "collapsed": false
   },
   "outputs": [],
   "source": [
    "%matplotlib inline\n",
    "%run ../common/helper.py"
   ]
  },
  {
   "cell_type": "markdown",
   "metadata": {},
   "source": [
    "Now let's iterate a slightly more interesting function:"
   ]
  },
  {
   "cell_type": "code",
   "execution_count": null,
   "metadata": {
    "collapsed": true
   },
   "outputs": [],
   "source": []
  },
  {
   "cell_type": "code",
   "execution_count": null,
   "metadata": {
    "collapsed": true
   },
   "outputs": [],
   "source": [
    "def square_and_add_c(z, c):\n",
    "        return z*z + c"
   ]
  },
  {
   "cell_type": "code",
   "execution_count": null,
   "metadata": {
    "collapsed": true
   },
   "outputs": [],
   "source": [
    "# z: The initial complex number\n",
    "# n: The number of times to iterate\n",
    "\n",
    "# This function takes two inputs and returns a list of complex numbers. \n",
    "def generate_sequence(z, n):\n",
    "    \n",
    "    # This is where we'll store our sequence.\n",
    "    complex_sequence = [] \n",
    "    \n",
    "    # We can use this structure (called a \"for\" loop) to execute a line n times.\n",
    "    for i in range(n):\n",
    "        \n",
    "        # Put z at the end of the list\n",
    "        complex_sequence.append(z)\n",
    "        \n",
    "        # Now apply the \"rule\" to z\n",
    "        z = square_and_subtract_1(z)\n",
    "    \n",
    "    # Notice the indentation.\n",
    "    return complex_sequence"
   ]
  },
  {
   "cell_type": "code",
   "execution_count": null,
   "metadata": {
    "collapsed": true
   },
   "outputs": [],
   "source": [
    "# z: The initial complex number\n",
    "# c: The complex number we add to z squared each time\n",
    "# n: The number of times to iterate\n",
    "\n",
    "# This function takes three inputs and returns a list of complex numbers. \n",
    "def generate_sequence_2(z, c, n):\n",
    "    \n",
    "    # This is where we'll store our sequence.\n",
    "    complex_sequence = [] \n",
    "    \n",
    "    # We can use this structure (called a \"for\" loop) to execute a line n times.\n",
    "    for i in range(n):\n",
    "        \n",
    "        # Put z at the end of the list\n",
    "        complex_sequence.append(z)\n",
    "        \n",
    "        # Now apply the \"rule\" to z\n",
    "        z = square_and_add_c(z, c)\n",
    "    \n",
    "    # Notice the indentation.\n",
    "    return complex_sequence"
   ]
  },
  {
   "cell_type": "code",
   "execution_count": null,
   "metadata": {
    "collapsed": false,
    "scrolled": true
   },
   "outputs": [],
   "source": [
    "w = complex(0.34, 0.352)\n",
    "my_list = generate_sequence_2(w, w, 50)\n",
    "\n",
    "# These two lines just create a slider for you to play with.\n",
    "step_slider = IntSlider(min=1, max=50, value=1)\n",
    "w = widgets.interact(render_plot, complex_list=fixed(my_list), n=step_slider)"
   ]
  }
 ],
 "metadata": {
  "kernelspec": {
   "display_name": "Python 3",
   "language": "python",
   "name": "python3"
  },
  "language_info": {
   "codemirror_mode": {
    "name": "ipython",
    "version": 3
   },
   "file_extension": ".py",
   "mimetype": "text/x-python",
   "name": "python",
   "nbconvert_exporter": "python",
   "pygments_lexer": "ipython3",
   "version": "3.4.3"
  }
 },
 "nbformat": 4,
 "nbformat_minor": 0
}
