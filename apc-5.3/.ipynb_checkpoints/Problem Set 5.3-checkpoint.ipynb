{
 "cells": [
  {
   "cell_type": "markdown",
   "metadata": {},
   "source": [
    "# Problem Set 5.3\n",
    "## More Julia sets"
   ]
  },
  {
   "cell_type": "markdown",
   "metadata": {},
   "source": [
    "Remember to run this block first:"
   ]
  },
  {
   "cell_type": "code",
   "execution_count": null,
   "metadata": {
    "collapsed": false
   },
   "outputs": [],
   "source": [
    "%matplotlib inline\n",
    "%run ../common/helper.py"
   ]
  },
  {
   "cell_type": "markdown",
   "metadata": {},
   "source": [
    "Let's write a more general version of our `square_and_subtract_one` function from before. Now, instead of subtracting one, let's *add **c***, where *c* is any complex number.\n",
    "\n",
    "This function will need to take **two arguments**."
   ]
  },
  {
   "cell_type": "code",
   "execution_count": null,
   "metadata": {
    "collapsed": true
   },
   "outputs": [],
   "source": [
    "def square_and_add_c(z, c): # Remember to blank in student version\n",
    "    return z*z + c"
   ]
  },
  {
   "cell_type": "markdown",
   "metadata": {},
   "source": [
    "Try calling the previous function on these complex numbers:"
   ]
  },
  {
   "cell_type": "code",
   "execution_count": null,
   "metadata": {
    "collapsed": false,
    "scrolled": true
   },
   "outputs": [],
   "source": [
    "z1 = np.complex(1, 2)\n",
    "z2 = np.complex(0.3, 0.7)\n",
    "z3 = np.complex(np.sqrt(3)/2, 1.0/2.0)\n",
    "\n",
    "c = complex(-0.5, 0.25)\n",
    "\n",
    "z4 = square_and_add_c(z1, c) # Remove for student version\n",
    "z5 = square_and_add_c(z2, c)\n",
    "z6 = square_and_add_c(z3, c)\n",
    "\n",
    "print(\"The input \" + round_complex(z1) + \" produced the output \" + round_complex(z4))\n",
    "print(\"The input \" + round_complex(z2) + \" produced the output \" + round_complex(z5))\n",
    "print(\"The input \" + round_complex(z3) + \" produced the output \" + round_complex(z6))"
   ]
  },
  {
   "cell_type": "markdown",
   "metadata": {},
   "source": [
    "Try changing the initial values (**`z1`**, **`z2`**, and **`z3`**) as well as the constant **`c`** and running the code again."
   ]
  },
  {
   "cell_type": "markdown",
   "metadata": {},
   "source": [
    "### Convergent and divergent sequences\n",
    "\n",
    "Now we need to figure out which complex numbers will stay small forever for a given value of `c`.\n",
    "\n",
    "#### Question\n",
    "\n",
    "Does the following sequence converge or diverge?\n",
    "\n",
    "* If you think the sequence converges, what complex number does it seem to approach?\n",
    "* If you think the sequence diverges, how many iterations does it take before you're convinced?"
   ]
  },
  {
   "cell_type": "code",
   "execution_count": null,
   "metadata": {
    "collapsed": false
   },
   "outputs": [],
   "source": [
    "# The initial value\n",
    "z = complex(0.3, 0.5)\n",
    "\n",
    "# Give a few different initial values\n",
    "# z = complex(-0.2, 0.7)\n",
    "\n",
    "# The constant we're adding each time after squaring z\n",
    "c = complex(-0.5, 0.25)\n",
    "\n",
    "print(\"Before squaring and adding c = \" + round_complex(c) + \", z = \" + round_complex(z) + \" which has magnitude \" + round_magnitude(z))\n",
    "for i in range(0,10):\n",
    "    z = square_and_add_c(z, c)\n",
    "    print(\"After squaring and adding c = \" + round_complex(c) + \" \" + str(i + 1) + \" time(s), z = \"\n",
    "          + round_complex(z) + \" which has magnitude \" + round_magnitude(z))"
   ]
  },
  {
   "cell_type": "markdown",
   "metadata": {},
   "source": [
    "Try changing the initial values **`z1`** as well as the constant **`c`** and responding to the above questions a few more times."
   ]
  },
  {
   "cell_type": "markdown",
   "metadata": {},
   "source": [
    "### Another update to our function for generating sequences"
   ]
  },
  {
   "cell_type": "code",
   "execution_count": null,
   "metadata": {
    "collapsed": true
   },
   "outputs": [],
   "source": [
    "# z: The initial complex number\n",
    "# c: The complex number we add to z squared each time\n",
    "# num_iterations: The number of times to iterate\n",
    "\n",
    "# This function takes three inputs and returns a list of complex numbers. \n",
    "def generate_sequence(z, c, num_iterations):\n",
    "    \n",
    "    # This is where we'll store our sequence.\n",
    "    complex_sequence = [] \n",
    "    \n",
    "    # Go through num_iterations times\n",
    "    for i in range(num_iterations):\n",
    "        \n",
    "        # Put z at the end of the list\n",
    "        complex_sequence.append(z)\n",
    "        \n",
    "        # Now apply the \"rule\" to z\n",
    "        z = square_and_add_c(z, c)\n",
    "    \n",
    "    # Notice the indentation.\n",
    "    return complex_sequence"
   ]
  },
  {
   "cell_type": "markdown",
   "metadata": {},
   "source": [
    "### Another Julia set"
   ]
  },
  {
   "cell_type": "code",
   "execution_count": null,
   "metadata": {
    "collapsed": true
   },
   "outputs": [],
   "source": [
    "def is_small_forever(z, c, max_iterations=100):\n",
    "    for i in range(max_iterations):\n",
    "        if np.absolute(z) > 2: # Blank this number in student version\n",
    "            return False\n",
    "        z = square_and_add_c(z, c)\n",
    "    return True    "
   ]
  },
  {
   "cell_type": "code",
   "execution_count": null,
   "metadata": {
    "collapsed": true
   },
   "outputs": [],
   "source": []
  },
  {
   "cell_type": "code",
   "execution_count": null,
   "metadata": {
    "collapsed": true
   },
   "outputs": [],
   "source": []
  },
  {
   "cell_type": "code",
   "execution_count": null,
   "metadata": {
    "collapsed": true
   },
   "outputs": [],
   "source": [
    "w = complex(0, 0.7)"
   ]
  },
  {
   "cell_type": "code",
   "execution_count": null,
   "metadata": {
    "collapsed": true
   },
   "outputs": [],
   "source": [
    "my_grid = iterate_function_on_grid(is_small_forever, c=w)\n",
    "\n",
    "# my_grid = iterate_function_on_grid(is_small_forever, limit=1.75, resolution=1000, max_iterations=25)\n",
    "\n",
    "# my_grid = iterate_function_on_grid(is_small_forever, resolution=1000, max_iterations=35, zoom=True, boundary_box=[-1, 0, -0.5, 0.5])"
   ]
  },
  {
   "cell_type": "code",
   "execution_count": null,
   "metadata": {
    "collapsed": false
   },
   "outputs": [],
   "source": [
    "plot_complex_grid(my_grid)"
   ]
  },
  {
   "cell_type": "markdown",
   "metadata": {},
   "source": [
    "### A more interesting picture\n",
    "Just like in the previous problem set, we can obtain a more interesting picture by shading the complex plane based on the number of iterations before we're sure the sequence diverges."
   ]
  },
  {
   "cell_type": "code",
   "execution_count": null,
   "metadata": {
    "collapsed": false
   },
   "outputs": [],
   "source": [
    "def iterations_to_diverge(z, c, max_iterations):\n",
    "    for n in range(max_iterations):\n",
    "        if np.absolute(z) > 2:\n",
    "            return n\n",
    "        z = square_and_add_c(z, c)\n",
    "    return max_iterations"
   ]
  },
  {
   "cell_type": "code",
   "execution_count": null,
   "metadata": {
    "collapsed": true
   },
   "outputs": [],
   "source": [
    "w = complex(0, 0.7)"
   ]
  },
  {
   "cell_type": "code",
   "execution_count": null,
   "metadata": {
    "collapsed": true
   },
   "outputs": [],
   "source": [
    "# my_grid = iterate_function_on_grid(iterations_to_diverge, limit=1.5, resolution=500, max_iterations=125, c=w)\n",
    "\n",
    "my_grid = iterate_function_on_grid(iterations_to_diverge, zoom=True, boundary_box=[-0.4, -0.2, 0.4, 0.6], resolution=500, max_iterations=125, c=w)\n",
    "\n",
    "# my_grid = iterate_function_on_grid(iterations_to_diverge, limit=1.75, resolution=1000, max_iterations=25)\n",
    "\n",
    "# my_grid = iterate_function_on_grid(iterations_to_diverge, resolution=1000, max_iterations=35, zoom=True, boundary_box=[-1, 0, -0.5, 0.5])"
   ]
  },
  {
   "cell_type": "code",
   "execution_count": null,
   "metadata": {
    "collapsed": false
   },
   "outputs": [],
   "source": [
    "# plot_complex_grid(my_grid)\n",
    "\n",
    "# plot_complex_grid(my_grid, color_gradient=\"Blues\")\n",
    "# plot_complex_grid(my_grid, color_gradient=\"bone\", limit=1.5)\n",
    "plot_complex_grid(my_grid, color_gradient=\"Spectral\", zoom=True, boundary_box=[-0.25, -0.15, 0.45, 0.55])\n",
    "# plot_complex_grid(my_grid, color_gradient=\"Paired\", zoom=True, boundary_box=[-1, 0, -0.5, 0.5])"
   ]
  },
  {
   "cell_type": "code",
   "execution_count": null,
   "metadata": {
    "collapsed": false
   },
   "outputs": [],
   "source": [
    "zoom_box = [-0.25, -0.15, 0.45, 0.55]\n",
    "\n",
    "my_grid = iterate_function_on_grid(iterations_to_diverge, zoom=True, boundary_box=zoom_box,\n",
    "                                   resolution=500, max_iterations=125, c=w)\n",
    "plot_complex_grid(my_grid, color_gradient=\"Spectral\", zoom=True, boundary_box=zoom_box)"
   ]
  }
 ],
 "metadata": {
  "kernelspec": {
   "display_name": "Python 3",
   "language": "python",
   "name": "python3"
  },
  "language_info": {
   "codemirror_mode": {
    "name": "ipython",
    "version": 3
   },
   "file_extension": ".py",
   "mimetype": "text/x-python",
   "name": "python",
   "nbconvert_exporter": "python",
   "pygments_lexer": "ipython3",
   "version": "3.4.3"
  }
 },
 "nbformat": 4,
 "nbformat_minor": 0
}
