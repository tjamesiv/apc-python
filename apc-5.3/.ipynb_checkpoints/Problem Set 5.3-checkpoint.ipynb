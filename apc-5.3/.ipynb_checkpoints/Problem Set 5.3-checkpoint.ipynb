{
 "cells": [
  {
   "cell_type": "markdown",
   "metadata": {},
   "source": [
    "# Problem Set 5.3\n",
    "## More filled Julia sets"
   ]
  },
  {
   "cell_type": "markdown",
   "metadata": {},
   "source": [
    "Remember to run this block first:"
   ]
  },
  {
   "cell_type": "code",
   "execution_count": null,
   "metadata": {
    "collapsed": false
   },
   "outputs": [],
   "source": [
    "%matplotlib inline\n",
    "%run ../common/helper.py"
   ]
  },
  {
   "cell_type": "markdown",
   "metadata": {},
   "source": [
    "Let's write a more general version of our `square_and_subtract_one` function from before. Now, instead of subtracting one, let's *add **c***, where *c* is any complex number.\n",
    "\n",
    "This function will need to take **two arguments**."
   ]
  },
  {
   "cell_type": "code",
   "execution_count": null,
   "metadata": {
    "collapsed": true
   },
   "outputs": [],
   "source": [
    "def square_and_add_c(z, c):\n",
    "    return z*z + c"
   ]
  },
  {
   "cell_type": "markdown",
   "metadata": {},
   "source": [
    "Try calling the previous function on these complex numbers:"
   ]
  },
  {
   "cell_type": "code",
   "execution_count": null,
   "metadata": {
    "collapsed": false,
    "scrolled": true
   },
   "outputs": [],
   "source": [
    "z1 = np.complex(1, 2)\n",
    "z2 = np.complex(0.3, 0.7)\n",
    "z3 = np.complex(np.sqrt(3)/2, 1.0/2.0)\n",
    "\n",
    "c = complex(-0.5, 0.25)\n",
    "\n",
    "z4 = square_and_add_c(z1, c)\n",
    "z5 = square_and_add_c(z2, c)\n",
    "z6 = square_and_add_c(z3, c)\n",
    "\n",
    "print(\"The input \" + round_complex(z1) + \" produced the output \" + round_complex(z4))\n",
    "print(\"The input \" + round_complex(z2) + \" produced the output \" + round_complex(z5))\n",
    "print(\"The input \" + round_complex(z3) + \" produced the output \" + round_complex(z6))"
   ]
  },
  {
   "cell_type": "markdown",
   "metadata": {},
   "source": [
    "Try changing the initial values (**`z1`**, **`z2`**, and **`z3`**) as well as the constant **`c`** and running the code again."
   ]
  },
  {
   "cell_type": "markdown",
   "metadata": {},
   "source": [
    "### Sequences of complex numbers\n",
    "Now we need to figure out which complex numbers will produce sequences that stay small forever for a given value of `c`.\n",
    "\n",
    "Try running the following code:"
   ]
  },
  {
   "cell_type": "code",
   "execution_count": null,
   "metadata": {
    "collapsed": false
   },
   "outputs": [],
   "source": [
    "# The initial value\n",
    "z = complex(0.3, 0.5)\n",
    "\n",
    "# The constant we're adding each time after squaring z\n",
    "c = complex(-0.5, 0.25)\n",
    "\n",
    "print(\"Before squaring and adding c = \" + round_complex(c) + \", z = \" + round_complex(z) + \" which has magnitude \" + round_magnitude(z))\n",
    "for i in range(10):\n",
    "    z = square_and_add_c(z, c)\n",
    "    print(\"After squaring and adding c = \" + round_complex(c) + \" \" + str(i + 1) + \" time(s), z = \"\n",
    "          + round_complex(z) + \" which has magnitude \" + round_magnitude(z))"
   ]
  },
  {
   "cell_type": "markdown",
   "metadata": {},
   "source": [
    "#### Question\n",
    "Does the sequence converge or diverge?\n",
    "\n",
    "* If you think the sequence converges, what complex number does it seem to approach?\n",
    "* If you think the sequence diverges, how many iterations does it take before you're convinced?"
   ]
  },
  {
   "cell_type": "markdown",
   "metadata": {},
   "source": [
    "Answer: "
   ]
  },
  {
   "cell_type": "markdown",
   "metadata": {},
   "source": [
    "Try changing the initial value **`z`** to –0.2 + 0.7i and responding to the above question once more."
   ]
  },
  {
   "cell_type": "markdown",
   "metadata": {},
   "source": [
    "Answer: "
   ]
  },
  {
   "cell_type": "markdown",
   "metadata": {},
   "source": [
    "Try changing the initial value **`z`** to any other complex number of your choice and responding to the above question once more."
   ]
  },
  {
   "cell_type": "markdown",
   "metadata": {},
   "source": [
    "Answer: "
   ]
  },
  {
   "cell_type": "markdown",
   "metadata": {},
   "source": [
    "Finally, try changing the constant **`c`** to 0.35 – 0.25i and responding to the above question once more."
   ]
  },
  {
   "cell_type": "markdown",
   "metadata": {},
   "source": [
    "Answer: "
   ]
  },
  {
   "cell_type": "markdown",
   "metadata": {},
   "source": [
    "### Another update to our function for generating sequences"
   ]
  },
  {
   "cell_type": "markdown",
   "metadata": {},
   "source": [
    "The following code will generate a sequence of complex numbers for us given the following parameters:\n",
    "\n",
    "* **`z`**: The initial complex number\n",
    "* **`c`**: The complex number we add to z squared each time\n",
    "* **`num_iterations`**: The number of times to iterate"
   ]
  },
  {
   "cell_type": "code",
   "execution_count": null,
   "metadata": {
    "collapsed": true
   },
   "outputs": [],
   "source": [
    "# This function takes three inputs and returns a list of complex numbers. \n",
    "def generate_sequence(z, c, num_iterations):\n",
    "    \n",
    "    # This is where we'll store our sequence.\n",
    "    complex_sequence = [] \n",
    "    \n",
    "    # Go through num_iterations times\n",
    "    for i in range(num_iterations):\n",
    "        \n",
    "        # Put z at the end of the list\n",
    "        complex_sequence.append(z)\n",
    "        \n",
    "        # Now apply the \"rule\" to z\n",
    "        z = square_and_add_c(z, c)\n",
    "    \n",
    "    # Notice the indentation.\n",
    "    return complex_sequence"
   ]
  },
  {
   "cell_type": "markdown",
   "metadata": {},
   "source": [
    "We can use this function to generate solutions to the \"Sequences of Complex Numbers\" problem set:"
   ]
  },
  {
   "cell_type": "code",
   "execution_count": null,
   "metadata": {
    "collapsed": false
   },
   "outputs": [],
   "source": [
    "# 1(a)\n",
    "generate_sequence(np.complex(0.96, -0.28), 0, 6)"
   ]
  },
  {
   "cell_type": "code",
   "execution_count": null,
   "metadata": {
    "collapsed": false,
    "scrolled": true
   },
   "outputs": [],
   "source": [
    "# 1(b)\n",
    "generate_sequence(np.complex(0.8, 0.7), 0, 6)"
   ]
  },
  {
   "cell_type": "code",
   "execution_count": null,
   "metadata": {
    "collapsed": false
   },
   "outputs": [],
   "source": [
    "# 1(c)\n",
    "generate_sequence(np.complex(-0.7, 0.3), 0, 6)"
   ]
  },
  {
   "cell_type": "code",
   "execution_count": null,
   "metadata": {
    "collapsed": false
   },
   "outputs": [],
   "source": [
    "# 2(a)\n",
    "generate_sequence(np.complex(1.1, 0.2), -1, 6)"
   ]
  },
  {
   "cell_type": "code",
   "execution_count": null,
   "metadata": {
    "collapsed": false
   },
   "outputs": [],
   "source": [
    "# 2(b)\n",
    "generate_sequence(np.complex(-0.6, 0.3), -1, 6)"
   ]
  },
  {
   "cell_type": "code",
   "execution_count": null,
   "metadata": {
    "collapsed": false
   },
   "outputs": [],
   "source": [
    "# 2(c)\n",
    "generate_sequence(np.complex(-0.2, 0.4), -1, 6)"
   ]
  },
  {
   "cell_type": "code",
   "execution_count": null,
   "metadata": {
    "collapsed": false
   },
   "outputs": [],
   "source": [
    "# 3(a)\n",
    "generate_sequence(np.complex(2, 1), np.complex(-0.5, 0.25), 6)"
   ]
  },
  {
   "cell_type": "code",
   "execution_count": null,
   "metadata": {
    "collapsed": false
   },
   "outputs": [],
   "source": [
    "# 3(b)\n",
    "generate_sequence(np.complex(0.1, 0.2), np.complex(-0.5, 0.25), 6)"
   ]
  },
  {
   "cell_type": "code",
   "execution_count": null,
   "metadata": {
    "collapsed": false
   },
   "outputs": [],
   "source": [
    "# 3(c)\n",
    "generate_sequence(np.complex(0.1, 0.8), np.complex(-0.5, 0.25), 6)"
   ]
  },
  {
   "cell_type": "code",
   "execution_count": null,
   "metadata": {
    "collapsed": false
   },
   "outputs": [],
   "source": [
    "# 4(a)\n",
    "generate_sequence(0, np.complex(0.35, -0.25), 6)"
   ]
  },
  {
   "cell_type": "code",
   "execution_count": null,
   "metadata": {
    "collapsed": false
   },
   "outputs": [],
   "source": [
    "# 4(b)\n",
    "generate_sequence(np.complex(1, 0.5), np.complex(0.35, -0.25), 6)"
   ]
  },
  {
   "cell_type": "code",
   "execution_count": null,
   "metadata": {
    "collapsed": false
   },
   "outputs": [],
   "source": [
    "# 4(c)\n",
    "generate_sequence(np.complex(-0.2, -0.7), np.complex(0.35, -0.25), 6)"
   ]
  },
  {
   "cell_type": "markdown",
   "metadata": {},
   "source": [
    "### Another Julia set\n",
    "It's time to upgrade `is_small_forever`! Remember:\n",
    "\n",
    "* This function should return `True` if the numbers in the sequence will **stay close to the origin**.\n",
    "    * We're satisfied that the numbers in the sequence stay small if the terms are still close to the origin after `max_iterations` iterations.\n",
    "* This function should return `False` if the numbers in sequence will **keep growing**.\n",
    "\n",
    "This time, we introduce one new parameter. For reference, here is the list of parameters:\n",
    "* **`z`**: The initial complex number (Required)\n",
    "* **`c`**: The complex number we add to z squared each time (Required)\n",
    "* **`max_iterations`**: The number of times to iterate (Optional; default = 100)"
   ]
  },
  {
   "cell_type": "code",
   "execution_count": null,
   "metadata": {
    "collapsed": true
   },
   "outputs": [],
   "source": [
    "def is_small_forever(z, c, max_iterations=100):\n",
    "    \n",
    "    for i in range(max_iterations):\n",
    "        \n",
    "        # If we've gotten too far from the origin, we clearly aren't staying small.\n",
    "        if np.absolute(z) > 2:\n",
    "            return False\n",
    "        \n",
    "        # We're still close to the origin. Apply the rule again!\n",
    "        z = square_and_add_c(z, c)\n",
    "        \n",
    "    # Looks like we made it through the loop without ever getting too far from the origin.\n",
    "    return True    "
   ]
  },
  {
   "cell_type": "markdown",
   "metadata": {},
   "source": [
    "Let's test our function. Pick one of the twelve sequences from the \"Sequences of Complex Numbers\" problem set **that you believe stays small forever**:"
   ]
  },
  {
   "cell_type": "code",
   "execution_count": null,
   "metadata": {
    "collapsed": false
   },
   "outputs": [],
   "source": [
    "initial_value = np.complex(___, ___) # Fill me in\n",
    "c = np.complex(___, ____) # Fill me in\n",
    "\n",
    "is_small_forever(initial_value, c)"
   ]
  },
  {
   "cell_type": "markdown",
   "metadata": {},
   "source": [
    "#### A visual representation of our filled Julia set"
   ]
  },
  {
   "cell_type": "markdown",
   "metadata": {},
   "source": [
    "Remember from last time that the *filled Julia set* for our `square_and_add_c` rule is the collection of **all points in the complex plane that lead to sequences that stay small under our rule.**\n",
    "\n",
    "To plot a Julia set for a given value of `c`, we need to test *a lot* of points to see which ones result in sequences that stay small forever.\n",
    "\n",
    "Now that `is_small_forever` is good to go, we can use it to test lots of points.\n",
    "\n",
    "#### Parameters\n",
    "\n",
    "We have one new parameter for `iterate_function_on_grid` (c), and all the others are the same as in the previous problem set:\n",
    "\n",
    "* **`f`**: The function to be iterated. In this case, we're going to use `is_small_forever`. (Required)\n",
    "* **`c`**: The constant to add after squaring each time. (Required)\n",
    "* **`limit`**: The width of one quadrant of the complex plane (Optional; default = 2)\n",
    "* **`resolution`**: The number of points to test in each direction. This means that the total number of points tested will be this number squared. (Optional; default = 100)\n",
    "* **`max_iterations`**: The number of iterations after which we're satisfied that the sequence converges if the terms are still small. (Optional; default = 20)\n",
    "* **`zoom`**: When set to `True`, enables the following option. (Optional; default = `False`)\n",
    "* **`boundary_box`**: A list specifying the boundaries of the zoom window. The format is [`xmin`, `xmax`, `ymin`, `ymax`]. (Optional; default is [-`limit`, `limit`, -`limit`, `limit`])"
   ]
  },
  {
   "cell_type": "code",
   "execution_count": null,
   "metadata": {
    "collapsed": false
   },
   "outputs": [],
   "source": [
    "# Compute the grid... (a slow operation)\n",
    "my_grid = iterate_function_on_grid(is_small_forever, c=np.complex(0.35, -0.25), resolution=500, max_iterations=30)"
   ]
  },
  {
   "cell_type": "code",
   "execution_count": null,
   "metadata": {
    "collapsed": false
   },
   "outputs": [],
   "source": [
    "# ...and plot it (a very fast operation)\n",
    "plot_complex_grid(my_grid)"
   ]
  },
  {
   "cell_type": "markdown",
   "metadata": {},
   "source": [
    "For your reference, here are the parameters for `plot_complex_grid`:\n",
    "\n",
    "* **`my_grid`**: The grid of points to be plotted. (Required)\n",
    "* **`color_gradient`**: The color scheme to use. (Optional; default=\"Purples\")\n",
    "    * Try any of [these](https://micropore.files.wordpress.com/2010/06/colormaps.png)!\n",
    "* **`zoom`**: When set to `True`, enables the following option. (Optional; default = `False`)\n",
    "* **`boundary_box`**: A list specifying the boundaries of the zoom window. The format is [`xmin`, `xmax`, `ymin`, `ymax`]. (Optional; default is [-`limit`, `limit`, -`limit`, `limit`])"
   ]
  },
  {
   "cell_type": "markdown",
   "metadata": {},
   "source": [
    "Let's try zooming in on the origin a bit, changing the color scheme, and slightly increasing the maximum number of iterations:"
   ]
  },
  {
   "cell_type": "code",
   "execution_count": null,
   "metadata": {
    "collapsed": true
   },
   "outputs": [],
   "source": [
    "my_grid = iterate_function_on_grid(is_small_forever, c=np.complex(0.35, -0.25),\n",
    "                                   resolution=500, max_iterations=35, limit=1.25)"
   ]
  },
  {
   "cell_type": "code",
   "execution_count": null,
   "metadata": {
    "collapsed": false
   },
   "outputs": [],
   "source": [
    "plot_complex_grid(my_grid, color_gradient=\"Oranges\")"
   ]
  },
  {
   "cell_type": "markdown",
   "metadata": {},
   "source": [
    "Try picking a feature of this **filled Julia set** to zoom in on."
   ]
  },
  {
   "cell_type": "code",
   "execution_count": null,
   "metadata": {
    "collapsed": true
   },
   "outputs": [],
   "source": [
    "# Establish the viewing window\n",
    "zoom_box = [___, ___, ___, ___] # Fill me in\n",
    "\n",
    "# Generate the grid inside the viewing window\n",
    "my_grid = iterate_function_on_grid(is_small_forever, c=np.complex(0.35, -0.25), resolution=500, max_iterations=35,\n",
    "                                   zoom=True, boundary_box=zoom_box)\n",
    "\n",
    "# Plot the grid inside the viewing window\n",
    "plot_complex_grid(my_grid, color_gradient=\"Set2\", zoom=True, boundary_box=zoom_box)"
   ]
  },
  {
   "cell_type": "markdown",
   "metadata": {},
   "source": [
    "### A more interesting picture\n",
    "Just like in the previous problem set, we can obtain a more interesting picture by shading the complex plane based on the number of iterations before we're sure the sequence diverges.\n",
    "\n",
    "**This is a more powerful version of `is_small_forever`.**"
   ]
  },
  {
   "cell_type": "code",
   "execution_count": null,
   "metadata": {
    "collapsed": false
   },
   "outputs": [],
   "source": [
    "def iterations_to_diverge(z, c, max_iterations):\n",
    "    \n",
    "    for n in range(max_iterations):\n",
    "        \n",
    "        # If we've gotten too far from the origin, we clearly aren't staying small.\n",
    "        if np.absolute(z) > 2:\n",
    "            \n",
    "            # Return the number of times we had to run through the loop before escaping.\n",
    "            return n\n",
    "        \n",
    "        # We're still close to the origin. Apply the rule again!\n",
    "        z = square_and_add_c(z, c)\n",
    "        \n",
    "    # Looks like we made it through the loop without ever getting too far from the origin.\n",
    "    # Return the number of times we actually applied the rule.\n",
    "    return max_iterations"
   ]
  },
  {
   "cell_type": "markdown",
   "metadata": {},
   "source": [
    "Let's test this function out on #3(c) on the \"Sequences of Complex Numbers\" problem set."
   ]
  },
  {
   "cell_type": "code",
   "execution_count": null,
   "metadata": {
    "collapsed": false
   },
   "outputs": [],
   "source": [
    "iterations_to_diverge(np.complex(0.1, 0.8), np.complex(-0.5, 0.25), 10)"
   ]
  },
  {
   "cell_type": "markdown",
   "metadata": {},
   "source": [
    "Now we can make use of an entire colormap by assigning different colors based on the number of iterations required before the sequence diverges."
   ]
  },
  {
   "cell_type": "code",
   "execution_count": null,
   "metadata": {
    "collapsed": false
   },
   "outputs": [],
   "source": [
    "my_grid = iterate_function_on_grid(iterations_to_diverge, c=np.complex(0.35, -0.25), limit=1.25,\n",
    "                                   resolution=500, max_iterations=30)\n",
    "plot_complex_grid(my_grid, color_gradient=\"Set3\", limit=1.25)"
   ]
  },
  {
   "cell_type": "markdown",
   "metadata": {},
   "source": [
    "### Now let's change the value of `c`"
   ]
  },
  {
   "cell_type": "markdown",
   "metadata": {},
   "source": [
    "There's a different filled Julia set for each complex value of `c`. Let's explore..."
   ]
  },
  {
   "cell_type": "code",
   "execution_count": null,
   "metadata": {
    "collapsed": true
   },
   "outputs": [],
   "source": [
    "my_grid = iterate_function_on_grid(iterations_to_diverge, c=np.complex(0, 0.7), resolution=500, max_iterations=30)"
   ]
  },
  {
   "cell_type": "code",
   "execution_count": null,
   "metadata": {
    "collapsed": false
   },
   "outputs": [],
   "source": [
    "plot_complex_grid(my_grid)"
   ]
  },
  {
   "cell_type": "markdown",
   "metadata": {},
   "source": [
    "Check out this color scheme:"
   ]
  },
  {
   "cell_type": "code",
   "execution_count": null,
   "metadata": {
    "collapsed": false
   },
   "outputs": [],
   "source": [
    "plot_complex_grid(my_grid, color_gradient=\"gist_rainbow\")"
   ]
  },
  {
   "cell_type": "markdown",
   "metadata": {},
   "source": [
    "Let's zoom in on the origin:"
   ]
  },
  {
   "cell_type": "code",
   "execution_count": null,
   "metadata": {
    "collapsed": false
   },
   "outputs": [],
   "source": [
    "my_grid = iterate_function_on_grid(iterations_to_diverge, c=np.complex(0, 0.7),\n",
    "                                   resolution=500, max_iterations=35, limit=1.25)"
   ]
  },
  {
   "cell_type": "code",
   "execution_count": null,
   "metadata": {
    "collapsed": false
   },
   "outputs": [],
   "source": [
    "plot_complex_grid(my_grid, color_gradient=\"gist_rainbow\", limit=1.25)"
   ]
  },
  {
   "cell_type": "markdown",
   "metadata": {},
   "source": [
    "Let's zoom in on a specific feature of this filled Julia set:"
   ]
  },
  {
   "cell_type": "code",
   "execution_count": null,
   "metadata": {
    "collapsed": false
   },
   "outputs": [],
   "source": [
    "zoom_box = [-0.4, -0.2, 0.4, 0.6]\n",
    "\n",
    "my_grid = iterate_function_on_grid(iterations_to_diverge, c = np.complex(0, 0.7),\n",
    "                                   zoom=True, boundary_box=zoom_box, resolution=500, max_iterations=60)"
   ]
  },
  {
   "cell_type": "code",
   "execution_count": null,
   "metadata": {
    "collapsed": false
   },
   "outputs": [],
   "source": [
    "plot_complex_grid(my_grid, color_gradient=\"Spectral\", zoom=True, boundary_box=zoom_box)"
   ]
  },
  {
   "cell_type": "markdown",
   "metadata": {},
   "source": [
    "Let's zoom in even farther!"
   ]
  },
  {
   "cell_type": "code",
   "execution_count": null,
   "metadata": {
    "collapsed": false
   },
   "outputs": [],
   "source": [
    "zoom_box = [-0.25, -0.15, 0.45, 0.55]\n",
    "\n",
    "my_grid = iterate_function_on_grid(iterations_to_diverge, c = np.complex(0, 0.7),\n",
    "                                   zoom=True, boundary_box=zoom_box, resolution=500, max_iterations=75)"
   ]
  },
  {
   "cell_type": "code",
   "execution_count": null,
   "metadata": {
    "collapsed": false
   },
   "outputs": [],
   "source": [
    "plot_complex_grid(my_grid, color_gradient=\"Spectral\", zoom=True, boundary_box=zoom_box)"
   ]
  },
  {
   "cell_type": "markdown",
   "metadata": {},
   "source": [
    "What did you notice as we continued to zoom in?"
   ]
  },
  {
   "cell_type": "markdown",
   "metadata": {},
   "source": [
    "Answer: "
   ]
  },
  {
   "cell_type": "markdown",
   "metadata": {},
   "source": [
    "### Your turn\n",
    "Using the functions above, generate a beautiful picture. I'd love to get a new profile picture for our class Twitter account.\n",
    "\n",
    "You can try:\n",
    "* Experimenting with changing the value of `c`\n",
    "* Zooming in on a feature that looks interesting\n",
    "* Changing the color scheme\n",
    "* Increasing the resolution (don't go too crazy - it might take a while to calculate!)\n",
    "\n",
    "(**Note**: You can create more cells in the notebook by hitting \"a\" or \"b\" (for \"above\" or \"below\") on your keyboard.)"
   ]
  },
  {
   "cell_type": "code",
   "execution_count": null,
   "metadata": {
    "collapsed": true
   },
   "outputs": [],
   "source": []
  },
  {
   "cell_type": "code",
   "execution_count": null,
   "metadata": {
    "collapsed": true
   },
   "outputs": [],
   "source": []
  }
 ],
 "metadata": {
  "kernelspec": {
   "display_name": "Python 3",
   "language": "python",
   "name": "python3"
  },
  "language_info": {
   "codemirror_mode": {
    "name": "ipython",
    "version": 3
   },
   "file_extension": ".py",
   "mimetype": "text/x-python",
   "name": "python",
   "nbconvert_exporter": "python",
   "pygments_lexer": "ipython3",
   "version": "3.4.3"
  }
 },
 "nbformat": 4,
 "nbformat_minor": 0
}
