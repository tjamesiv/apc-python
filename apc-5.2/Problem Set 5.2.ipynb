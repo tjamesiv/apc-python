{
 "cells": [
  {
   "cell_type": "markdown",
   "metadata": {},
   "source": [
    "# Problem Set 5.2\n",
    "## Iterating complex-valued functions"
   ]
  },
  {
   "cell_type": "markdown",
   "metadata": {},
   "source": [
    "Remember to run this block first:"
   ]
  },
  {
   "cell_type": "code",
   "execution_count": null,
   "metadata": {
    "collapsed": false
   },
   "outputs": [],
   "source": [
    "%matplotlib inline\n",
    "%run ../common/helper.py"
   ]
  },
  {
   "cell_type": "markdown",
   "metadata": {},
   "source": [
    "Now let's iterate a slightly more interesting function:"
   ]
  },
  {
   "cell_type": "code",
   "execution_count": null,
   "metadata": {
    "collapsed": true
   },
   "outputs": [],
   "source": [
    "def square_and_subtract_one(z):\n",
    "    return z*z - 1"
   ]
  },
  {
   "cell_type": "markdown",
   "metadata": {},
   "source": [
    "Try calling the previous function on these complex numbers:"
   ]
  },
  {
   "cell_type": "code",
   "execution_count": null,
   "metadata": {
    "collapsed": false
   },
   "outputs": [],
   "source": [
    "z1 = np.complex(1, 2)\n",
    "z2 = np.complex(0.3, 0.7)\n",
    "z3 = np.complex(np.sqrt(3)/2, 1.0/2.0)\n",
    "\n",
    "z4 = square_and_subtract_one(z1) # Remove for student version\n",
    "z5 = square_and_subtract_one(z2)\n",
    "z6 = square_and_subtract_one(z3)\n",
    "\n",
    "print(\"The input \" + round_complex(z1) + \" produced the output \" + round_complex(z4))\n",
    "print(\"The input \" + round_complex(z2) + \" produced the output \" + round_complex(z5))\n",
    "print(\"The input \" + round_complex(z3) + \" produced the output \" + round_complex(z6))"
   ]
  },
  {
   "cell_type": "markdown",
   "metadata": {
    "collapsed": true
   },
   "source": [
    "Now we need to figure out which complex numbers will stay small forever."
   ]
  },
  {
   "cell_type": "code",
   "execution_count": null,
   "metadata": {
    "collapsed": false
   },
   "outputs": [],
   "source": [
    "z = complex(0.3,0.5)\n",
    "\n",
    "print(\"Before squaring and subtracting one, z = \" + round_complex(z) + \" which has magnitude \" + round_magnitude(z))\n",
    "for i in range(0,10):\n",
    "    z = square_and_subtract_one(z)\n",
    "    print(\"After squaring and subtracting one \" + str(i + 1) + \" time(s), z = \"\n",
    "          + round_complex(z) + \" which has magnitude \" + round_magnitude(z))"
   ]
  },
  {
   "cell_type": "markdown",
   "metadata": {},
   "source": [
    "Try changing the **initial value** and the **number of iterations** and running the code again."
   ]
  },
  {
   "cell_type": "markdown",
   "metadata": {},
   "source": [
    "### Visualizing orbits\n",
    "Now let's visualize this sequence like we did in the previous problem set."
   ]
  },
  {
   "cell_type": "code",
   "execution_count": null,
   "metadata": {
    "collapsed": false
   },
   "outputs": [],
   "source": [
    "z = complex(0.1, 0.4)\n",
    "\n",
    "# Create an empty list. This is where we'll store each complex number.\n",
    "my_list = []\n",
    "\n",
    "# Add z to the list.\n",
    "my_list.append(z)\n",
    "\n",
    "for i in range(0, 10):\n",
    "    z = square_and_subtract_one(z)\n",
    "    my_list.append(z)\n",
    "    \n",
    "plot_complex_list(my_list)"
   ]
  },
  {
   "cell_type": "markdown",
   "metadata": {},
   "source": [
    "### An update to our function for generating sequences\n",
    "Like in the previous problem set, we want to have a function we can use over and over again to test our hypotheses."
   ]
  },
  {
   "cell_type": "code",
   "execution_count": null,
   "metadata": {
    "collapsed": true
   },
   "outputs": [],
   "source": [
    "# z: The initial complex number\n",
    "# n: The number of times to iterate\n",
    "\n",
    "# This function takes two inputs and returns a list of complex numbers. \n",
    "def generate_sequence(z, num_iterations):\n",
    "    \n",
    "    # This is where we'll store our sequence.\n",
    "    complex_sequence = [] \n",
    "    \n",
    "    # We can use this structure (called a \"for\" loop) to execute a line n times.\n",
    "    for i in range(num_iterations):\n",
    "        \n",
    "        # Put z at the end of the list\n",
    "        complex_sequence.append(z)\n",
    "        \n",
    "        # Now apply the \"rule\" to z\n",
    "        z = square_and_subtract_one(z)\n",
    "    \n",
    "    # Notice the indentation.\n",
    "    return complex_sequence"
   ]
  },
  {
   "cell_type": "markdown",
   "metadata": {},
   "source": [
    "Now, we can simply execute the following lines:"
   ]
  },
  {
   "cell_type": "code",
   "execution_count": null,
   "metadata": {
    "collapsed": false
   },
   "outputs": [],
   "source": [
    "# The initial value\n",
    "w = complex(0.1, 0.4)\n",
    "\n",
    "# The number of iterations\n",
    "n = 10\n",
    "\n",
    "# Get the list...\n",
    "my_list = generate_sequence(w, n)\n",
    "\n",
    "# ... and plot it!\n",
    "plot_complex_list(my_list, style=\"points\")"
   ]
  },
  {
   "cell_type": "markdown",
   "metadata": {},
   "source": [
    "Try changing the **initial value** and the **number of iterations** and running the code again."
   ]
  },
  {
   "cell_type": "markdown",
   "metadata": {},
   "source": [
    "### Question\n",
    "\n",
    "How big does the magnitude need to get before we're satisfied that the sequence will **diverge**?\n",
    "\n",
    "* This function should return `True` if the sequence will **converge**.\n",
    "    * We're satisfied that the sequence converges if the terms are still small after `max_iterations` iterations. (The default value of `max_iterations` is 100)\n",
    "* This function should return `False` if the sequence will **diverge**.\n",
    "\n",
    "Remember, **`z`** is the initial value."
   ]
  },
  {
   "cell_type": "code",
   "execution_count": null,
   "metadata": {
    "collapsed": true
   },
   "outputs": [],
   "source": [
    "def is_small_forever(z, max_iterations=100):\n",
    "    for i in range(max_iterations):\n",
    "        if np.absolute(z) > 2: # Blank this number in student version\n",
    "            return False\n",
    "        z = square_and_subtract_one(z)\n",
    "    return True    "
   ]
  },
  {
   "cell_type": "markdown",
   "metadata": {},
   "source": [
    "Let's test it out."
   ]
  },
  {
   "cell_type": "code",
   "execution_count": null,
   "metadata": {
    "collapsed": false
   },
   "outputs": [],
   "source": [
    "w = complex(0.1, 0.4)\n",
    "\n",
    "is_small_forever(w)"
   ]
  },
  {
   "cell_type": "markdown",
   "metadata": {},
   "source": [
    "Run it a few more times for different values of **`w`**."
   ]
  },
  {
   "cell_type": "markdown",
   "metadata": {},
   "source": [
    "Notice that if we set `max_iterations` to a small value, `is_small_forever` will return `True`."
   ]
  },
  {
   "cell_type": "code",
   "execution_count": null,
   "metadata": {
    "collapsed": false
   },
   "outputs": [],
   "source": [
    "w = complex(0.3, 0.4)\n",
    "\n",
    "is_small_forever(w, 10)"
   ]
  },
  {
   "cell_type": "markdown",
   "metadata": {},
   "source": [
    "Now increase `max_iterations` until `is_small_forever` returns `False`. How many iterations are required?"
   ]
  },
  {
   "cell_type": "markdown",
   "metadata": {},
   "source": [
    "## Julia sets\n",
    "Suppose we plotted all the points in the complex plane for which `is_small_forever` returns `True`.\n",
    "\n",
    "A *Julia set* is the collection of all points in the complex plane that give rise to convergent sequences under our `square_and_subtract_one` rule.\n",
    "\n",
    "To plot a Julia set, we need to test *a lot* of points to see which ones result in sequences that stay small forever.\n",
    "\n",
    "I've provided a helper function, `iterate_function_on_grid`, that will aid in this process. This function has one required argument and five optional arguments.\n",
    "\n",
    "* **`f`**: The function to be iterated. In this case, we're going to use `is_small_forever`. (Required)\n",
    "* **`limit`**: The width of one quadrant of the complex plane (Optional; default = 2)\n",
    "* **`resolution`**: The number of points to test in each direction. This means that the total number of points tested will be this number squared. (Optional; default = 100)\n",
    "* **`max_iterations`**: The number of iterations after which we're satisfied that the sequence converges if the terms are still small. (Optional; default = 20)\n",
    "* **`zoom`**: When set to `True`, enables the following option. (Optional; default = `False`)\n",
    "* **`boundary_box`**: A list specifying the boundaries of the zoom window. The format is [`xmin`, `xmax`, `ymin`, `ymax`]. (Optional; default is [-`limit`, `limit`, -`limit`, `limit`])"
   ]
  },
  {
   "cell_type": "code",
   "execution_count": null,
   "metadata": {
    "collapsed": false
   },
   "outputs": [],
   "source": [
    "my_grid = iterate_function_on_grid(is_small_forever)\n",
    "\n",
    "# my_grid = iterate_function_on_grid(is_small_forever, limit=1.75, resolution=1000, max_iterations=25)\n",
    "\n",
    "# my_grid = iterate_function_on_grid(is_small_forever, resolution=1000, max_iterations=35, zoom=True, boundary_box=[-1, 0, -0.5, 0.5])"
   ]
  },
  {
   "cell_type": "markdown",
   "metadata": {},
   "source": [
    "I've also provided a helper function, `plot_complex_grid` to plot the results. It takes one required argument and one optional argument.\n",
    "\n",
    "* **my_grid**: The grid of points to be plotted. (Required)\n",
    "* **color_gradient**: The color scheme to use. (Optional; default=\"Purples\")\n",
    "    * Try any of [these](https://micropore.files.wordpress.com/2010/06/colormaps.png)! "
   ]
  },
  {
   "cell_type": "code",
   "execution_count": null,
   "metadata": {
    "collapsed": false
   },
   "outputs": [],
   "source": [
    "plot_complex_grid(my_grid)\n",
    "\n",
    "# plot_complex_grid(my_grid, color_gradient=\"Blues\")\n",
    "\n",
    "# plot_complex_grid(my_grid, color_gradient=\"Blues\", zoom=True, boundary_box=[-1, 0, -0.5, 0.5])"
   ]
  },
  {
   "cell_type": "markdown",
   "metadata": {},
   "source": [
    "### A more interesting picture\n",
    "What if, instead of just using two colors, we used **different shades based on the number of iterations before we're sure the sequence diverges**?\n",
    "\n",
    "First, we need to write a more general version of `is_small_forever`."
   ]
  },
  {
   "cell_type": "code",
   "execution_count": null,
   "metadata": {
    "collapsed": true
   },
   "outputs": [],
   "source": [
    "# Make the parameters clearer\n",
    "\n",
    "def iterations_to_diverge(z, max_iterations):\n",
    "    for n in range(max_iterations):\n",
    "        if np.absolute(z) > 2:\n",
    "            return n\n",
    "        z = square_and_subtract_one(z)\n",
    "    return max_iterations"
   ]
  },
  {
   "cell_type": "markdown",
   "metadata": {},
   "source": [
    "Now we can pass this function to `iterate_function_on_grid` to generate the Julia set for our `square_and_subtract_one` rule."
   ]
  },
  {
   "cell_type": "code",
   "execution_count": null,
   "metadata": {
    "collapsed": false
   },
   "outputs": [],
   "source": [
    "# my_grid = iterate_function_on_grid(iterations_to_diverge)\n",
    "\n",
    "# my_grid = iterate_function_on_grid(iterations_to_diverge, limit=1.75, resolution=1000, max_iterations=25)\n",
    "\n",
    "my_grid = iterate_function_on_grid(iterations_to_diverge, resolution=1000, max_iterations=35, zoom=True, boundary_box=[-1, 0, -0.5, 0.5])"
   ]
  },
  {
   "cell_type": "markdown",
   "metadata": {},
   "source": [
    "Try a few of the different [colormaps](https://micropore.files.wordpress.com/2010/06/colormaps.png) from before."
   ]
  },
  {
   "cell_type": "code",
   "execution_count": null,
   "metadata": {
    "collapsed": false,
    "scrolled": true
   },
   "outputs": [],
   "source": [
    "# plot_complex_grid(my_grid)\n",
    "\n",
    "# plot_complex_grid(my_grid, color_gradient=\"Blues\")\n",
    "# plot_complex_grid(my_grid, color_gradient=\"Accent\", zoom=True, boundary_box=[-1, 0, -0.5, 0.5])\n",
    "# plot_complex_grid(my_grid, color_gradient=\"Spectral\", zoom=True, boundary_box=[-1, 0, -0.5, 0.5])\n",
    "# plot_complex_grid(my_grid, color_gradient=\"Paired\", zoom=True, boundary_box=[-1, 0, -0.5, 0.5])"
   ]
  },
  {
   "cell_type": "code",
   "execution_count": null,
   "metadata": {
    "collapsed": true
   },
   "outputs": [],
   "source": []
  },
  {
   "cell_type": "code",
   "execution_count": null,
   "metadata": {
    "collapsed": true
   },
   "outputs": [],
   "source": []
  },
  {
   "cell_type": "code",
   "execution_count": null,
   "metadata": {
    "collapsed": true
   },
   "outputs": [],
   "source": []
  }
 ],
 "metadata": {
  "kernelspec": {
   "display_name": "Python 3",
   "language": "python",
   "name": "python3"
  },
  "language_info": {
   "codemirror_mode": {
    "name": "ipython",
    "version": 3
   },
   "file_extension": ".py",
   "mimetype": "text/x-python",
   "name": "python",
   "nbconvert_exporter": "python",
   "pygments_lexer": "ipython3",
   "version": "3.4.3"
  }
 },
 "nbformat": 4,
 "nbformat_minor": 0
}
