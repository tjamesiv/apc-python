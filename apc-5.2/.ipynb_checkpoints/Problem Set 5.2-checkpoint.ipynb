{
 "cells": [
  {
   "cell_type": "markdown",
   "metadata": {},
   "source": [
    "# Problem Set 5.2\n",
    "## Iterating complex-valued functions"
   ]
  },
  {
   "cell_type": "markdown",
   "metadata": {},
   "source": [
    "Remember to run this block first:"
   ]
  },
  {
   "cell_type": "code",
   "execution_count": 203,
   "metadata": {
    "collapsed": false
   },
   "outputs": [],
   "source": [
    "%matplotlib inline\n",
    "%run ../common/helper.py"
   ]
  },
  {
   "cell_type": "markdown",
   "metadata": {},
   "source": [
    "Now let's iterate a slightly more interesting function:"
   ]
  },
  {
   "cell_type": "code",
   "execution_count": null,
   "metadata": {
    "collapsed": true
   },
   "outputs": [],
   "source": [
    "def square_and_subtract_one(z):\n",
    "    return z*z - 1"
   ]
  },
  {
   "cell_type": "markdown",
   "metadata": {},
   "source": [
    "Try calling the previous function on these complex numbers:"
   ]
  },
  {
   "cell_type": "code",
   "execution_count": null,
   "metadata": {
    "collapsed": false
   },
   "outputs": [],
   "source": [
    "z1 = np.complex(1, 2)\n",
    "z2 = np.complex(0.3, 0.7)\n",
    "z3 = np.complex(np.sqrt(3)/2, 1.0/2.0)\n",
    "\n",
    "z4 = square_and_subtract_one(z1) # Remove for student version\n",
    "z5 = square_and_subtract_one(z2)\n",
    "z6 = square_and_subtract_one(z3)\n",
    "\n",
    "print(\"The input \" + round_complex(z1) + \" produced the output \" + round_complex(z4))\n",
    "print(\"The input \" + round_complex(z2) + \" produced the output \" + round_complex(z5))\n",
    "print(\"The input \" + round_complex(z3) + \" produced the output \" + round_complex(z6))"
   ]
  },
  {
   "cell_type": "markdown",
   "metadata": {
    "collapsed": true
   },
   "source": [
    "Now we need to figure out which complex numbers will stay small forever."
   ]
  },
  {
   "cell_type": "code",
   "execution_count": null,
   "metadata": {
    "collapsed": false
   },
   "outputs": [],
   "source": [
    "z = complex(0.3,0.5)\n",
    "\n",
    "print(\"Before squaring and subtracting one, z = \" + round_complex(z) + \" which has magnitude \" + round_magnitude(z))\n",
    "for i in range(0,10):\n",
    "    z = square_and_subtract_one(z)\n",
    "    print(\"After squaring and subtracting one \" + str(i + 1) + \" time(s), z = \"\n",
    "          + round_complex(z) + \" which has magnitude \" + round_magnitude(z))"
   ]
  },
  {
   "cell_type": "markdown",
   "metadata": {},
   "source": [
    "Try changing the **initial value** and the **number of iterations** and running the code again.\n",
    "\n",
    "---\n",
    "\n",
    "### Visualizing orbits\n",
    "Now let's visualize this sequence like we did in the previous problem set."
   ]
  },
  {
   "cell_type": "code",
   "execution_count": 114,
   "metadata": {
    "collapsed": false
   },
   "outputs": [
    {
     "data": {
      "image/png": "[encoded data removed]",
      "text/plain": [
       "<matplotlib.figure.Figure at 0x10675af98>"
      ]
     },
     "metadata": {},
     "output_type": "display_data"
    }
   ],
   "source": [
    "z = complex(0.1, 0.4)\n",
    "\n",
    "# Create an empty list. This is where we'll store each complex number.\n",
    "my_list = []\n",
    "\n",
    "# Add z to the list.\n",
    "my_list.append(z)\n",
    "\n",
    "for i in range(0, 10):\n",
    "    z = square_and_subtract_one(z)\n",
    "    my_list.append(z)\n",
    "    \n",
    "plot_complex_list(my_list)"
   ]
  },
  {
   "cell_type": "markdown",
   "metadata": {},
   "source": [
    "### Question\n",
    "\n",
    "How big does the magnitude need to get before we're satisfied that the sequence will **diverge**?"
   ]
  },
  {
   "cell_type": "code",
   "execution_count": null,
   "metadata": {
    "collapsed": true
   },
   "outputs": [],
   "source": [
    "def is_small_forever(z):\n",
    "    for i in range(0, 100):\n",
    "        if np.absolute(z) > 2: # Blank this number in student version\n",
    "            return False\n",
    "        z = square_and_subtract_one(z)\n",
    "    return True    "
   ]
  },
  {
   "cell_type": "markdown",
   "metadata": {},
   "source": [
    "Let's test it out."
   ]
  },
  {
   "cell_type": "code",
   "execution_count": null,
   "metadata": {
    "collapsed": false
   },
   "outputs": [],
   "source": [
    "w = complex(0.1, 0.4)\n",
    "\n",
    "is_small_forever(w)"
   ]
  },
  {
   "cell_type": "code",
   "execution_count": null,
   "metadata": {
    "collapsed": true
   },
   "outputs": [],
   "source": []
  },
  {
   "cell_type": "code",
   "execution_count": null,
   "metadata": {
    "collapsed": true
   },
   "outputs": [],
   "source": []
  },
  {
   "cell_type": "code",
   "execution_count": null,
   "metadata": {
    "collapsed": true
   },
   "outputs": [],
   "source": []
  },
  {
   "cell_type": "code",
   "execution_count": 190,
   "metadata": {
    "collapsed": false
   },
   "outputs": [
    {
     "data": {
      "image/png": "[encoded data removed]",
      "text/plain": [
       "<matplotlib.figure.Figure at 0x124f727b8>"
      ]
     },
     "metadata": {},
     "output_type": "display_data"
    }
   ],
   "source": [
    "my_list = []\n",
    "\n",
    "# Iterate over imaginary part\n",
    "for b in np.linspace(-2, 2, num=225):\n",
    "    \n",
    "    # Iterate over real part\n",
    "    for a in np.linspace(-2, 2, num=225):\n",
    "        \n",
    "        z = complex(a,b)\n",
    "        if is_small_forever(z):\n",
    "            my_list.append(z)\n",
    "\n",
    "plot_complex_list(my_list, style=\"pixels\", limit=2)            "
   ]
  },
  {
   "cell_type": "code",
   "execution_count": null,
   "metadata": {
    "collapsed": true
   },
   "outputs": [],
   "source": []
  },
  {
   "cell_type": "code",
   "execution_count": null,
   "metadata": {
    "collapsed": true
   },
   "outputs": [],
   "source": []
  },
  {
   "cell_type": "code",
   "execution_count": 191,
   "metadata": {
    "collapsed": true
   },
   "outputs": [],
   "source": [
    "def iterations_to_diverge(z):\n",
    "    for n in range(20):\n",
    "        if np.absolute(z) > 2:\n",
    "            return n / 20.0\n",
    "        z = square_and_subtract_1(z)\n",
    "    return 1.0"
   ]
  },
  {
   "cell_type": "markdown",
   "metadata": {},
   "source": [
    "Version 2"
   ]
  },
  {
   "cell_type": "code",
   "execution_count": 192,
   "metadata": {
    "collapsed": false
   },
   "outputs": [],
   "source": [
    "my_list = []\n",
    "\n",
    "# Iterate over imaginary part\n",
    "for b in np.linspace(-2, 2, num=225): # 225 is a good number\n",
    "    \n",
    "    # Iterate over real part\n",
    "    for a in np.linspace(-2, 2, num=225):\n",
    "        \n",
    "        z = complex(a,b)\n",
    "        my_list.append([z, iterations_to_diverge(z)])\n",
    "\n",
    "# plot_complex_list(my_list, style=\"pixels\")            "
   ]
  },
  {
   "cell_type": "code",
   "execution_count": 193,
   "metadata": {
    "collapsed": false
   },
   "outputs": [
    {
     "data": {
      "image/png": "[encoded data removed]",
      "text/plain": [
       "<matplotlib.figure.Figure at 0x132987438>"
      ]
     },
     "metadata": {},
     "output_type": "display_data"
    }
   ],
   "source": [
    "plot_complex_list(my_list, style=\"pixels\", colors=True, limit=2)"
   ]
  },
  {
   "cell_type": "code",
   "execution_count": 202,
   "metadata": {
    "collapsed": false
   },
   "outputs": [
    {
     "data": {
      "image/png": "[encoded data removed]",
      "text/plain": [
       "<matplotlib.figure.Figure at 0x132da32b0>"
      ]
     },
     "metadata": {},
     "output_type": "display_data"
    }
   ],
   "source": [
    "plot_complex_list(my_list, style=\"pixels\", colors=True, limit=2)"
   ]
  }
 ],
 "metadata": {
  "kernelspec": {
   "display_name": "Python 3",
   "language": "python",
   "name": "python3"
  },
  "language_info": {
   "codemirror_mode": {
    "name": "ipython",
    "version": 3
   },
   "file_extension": ".py",
   "mimetype": "text/x-python",
   "name": "python",
   "nbconvert_exporter": "python",
   "pygments_lexer": "ipython3",
   "version": "3.4.3"
  }
 },
 "nbformat": 4,
 "nbformat_minor": 0
}
