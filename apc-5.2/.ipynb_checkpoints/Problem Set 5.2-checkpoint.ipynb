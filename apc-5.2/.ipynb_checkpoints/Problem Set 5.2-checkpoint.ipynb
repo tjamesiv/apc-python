{
 "cells": [
  {
   "cell_type": "markdown",
   "metadata": {},
   "source": [
    "# Problem Set 5.2\n",
    "## Introduction to Julia sets"
   ]
  },
  {
   "cell_type": "markdown",
   "metadata": {},
   "source": [
    "Remember to run this block first:"
   ]
  },
  {
   "cell_type": "code",
   "execution_count": null,
   "metadata": {
    "collapsed": false
   },
   "outputs": [],
   "source": [
    "%matplotlib inline\n",
    "%run ../common/helper.py"
   ]
  },
  {
   "cell_type": "markdown",
   "metadata": {},
   "source": [
    "Now let's iterate a slightly more interesting function:"
   ]
  },
  {
   "cell_type": "code",
   "execution_count": null,
   "metadata": {
    "collapsed": true
   },
   "outputs": [],
   "source": [
    "def square_and_subtract_one(z):\n",
    "    return z*z - 1"
   ]
  },
  {
   "cell_type": "markdown",
   "metadata": {},
   "source": [
    "Let's try calling the previous function on these complex numbers:"
   ]
  },
  {
   "cell_type": "code",
   "execution_count": null,
   "metadata": {
    "collapsed": false
   },
   "outputs": [],
   "source": [
    "z1 = np.complex(1, 2)\n",
    "z2 = np.complex(0.3, 0.7)\n",
    "z3 = np.complex(np.sqrt(3)/2, 1.0/2.0)\n",
    "\n",
    "z4 = square_and_subtract_one(z1)\n",
    "z5 = square_and_subtract_one(z2)\n",
    "z6 = square_and_subtract_one(z3)\n",
    "\n",
    "print(\"The input \" + round_complex(z1) + \" produced the output \" + round_complex(z4))\n",
    "print(\"The input \" + round_complex(z2) + \" produced the output \" + round_complex(z5))\n",
    "print(\"The input \" + round_complex(z3) + \" produced the output \" + round_complex(z6))"
   ]
  },
  {
   "cell_type": "markdown",
   "metadata": {
    "collapsed": true
   },
   "source": [
    "Now we need to figure out which complex numbers will stay small forever if we repeatedly apply the function."
   ]
  },
  {
   "cell_type": "code",
   "execution_count": null,
   "metadata": {
    "collapsed": false
   },
   "outputs": [],
   "source": [
    "z = complex(0.3,0.5)\n",
    "\n",
    "print(\"Before squaring and subtracting one, z = \" + round_complex(z) + \" which has magnitude \" + round_magnitude(z))\n",
    "for i in range(0,10):\n",
    "    z = square_and_subtract_one(z)\n",
    "    print(\"After squaring and subtracting one \" + str(i + 1) + \" time(s), z = \"\n",
    "          + round_complex(z) + \" which has magnitude \" + round_magnitude(z))"
   ]
  },
  {
   "cell_type": "markdown",
   "metadata": {},
   "source": [
    "Try changing the **initial value** and the **number of iterations** and running the code again.\n",
    "### Question\n",
    "In the box below, write down an observation you made."
   ]
  },
  {
   "cell_type": "markdown",
   "metadata": {},
   "source": []
  },
  {
   "cell_type": "markdown",
   "metadata": {},
   "source": [
    "### Visualizing orbits\n",
    "Now let's visualize this sequence like we did in the previous problem set."
   ]
  },
  {
   "cell_type": "code",
   "execution_count": null,
   "metadata": {
    "collapsed": false,
    "scrolled": true
   },
   "outputs": [],
   "source": [
    "z = complex(0.1, 0.4)\n",
    "\n",
    "# Create an empty list. This is where we'll store each complex number.\n",
    "my_list = []\n",
    "\n",
    "# Add z to the list.\n",
    "my_list.append(z)\n",
    "\n",
    "for i in range(0, 5):\n",
    "    z = square_and_subtract_one(z)\n",
    "    my_list.append(z)\n",
    "    \n",
    "plot_complex_list(my_list)"
   ]
  },
  {
   "cell_type": "markdown",
   "metadata": {},
   "source": [
    "Does this complex number result in a sequence that stays small forever?"
   ]
  },
  {
   "cell_type": "markdown",
   "metadata": {},
   "source": [
    "### An update to our function for generating sequences\n",
    "Like in the previous problem set, we want to have a function we can use over and over again to test our hypotheses.\n",
    "\n",
    "Here are the inputs to the function:\n",
    "* **`z`**: The initial complex number\n",
    "* **`num_iterations`**: The number of times to iterate"
   ]
  },
  {
   "cell_type": "code",
   "execution_count": null,
   "metadata": {
    "collapsed": true
   },
   "outputs": [],
   "source": [
    "# This function takes two inputs and returns a list of complex numbers. \n",
    "def generate_sequence(z, num_iterations):\n",
    "    \n",
    "    # This is where we'll store our sequence.\n",
    "    complex_sequence = [] \n",
    "    \n",
    "    # We can use this structure (called a \"for\" loop) to execute a line n times.\n",
    "    for i in range(num_iterations):\n",
    "        \n",
    "        # Put z at the end of the list\n",
    "        complex_sequence.append(z)\n",
    "        \n",
    "        # Now apply the \"rule\" to z\n",
    "        z = square_and_subtract_one(z)\n",
    "    \n",
    "    # Notice the indentation.\n",
    "    return complex_sequence"
   ]
  },
  {
   "cell_type": "markdown",
   "metadata": {},
   "source": [
    "Now, we can simply execute the following lines:"
   ]
  },
  {
   "cell_type": "code",
   "execution_count": null,
   "metadata": {
    "collapsed": false
   },
   "outputs": [],
   "source": [
    "# The initial value\n",
    "w = complex(0.1, 0.4)\n",
    "\n",
    "# The number of iterations\n",
    "n = 10\n",
    "\n",
    "# Get the list...\n",
    "my_list = generate_sequence(w, n)\n",
    "\n",
    "# ... and plot it!\n",
    "plot_complex_list(my_list, style=\"points\")"
   ]
  },
  {
   "cell_type": "markdown",
   "metadata": {},
   "source": [
    "Try changing the **initial value** and the **number of iterations** and running the code again."
   ]
  },
  {
   "cell_type": "markdown",
   "metadata": {},
   "source": [
    "### Question\n",
    "How big does the magnitude need to get before we're satisfied that the sequence will **diverge**?\n",
    "### Answer\n",
    "It is possible to prove that any complex number of magnitude greater than 2 will diverge."
   ]
  },
  {
   "cell_type": "markdown",
   "metadata": {},
   "source": [
    "### An update to `is_small_forever`\n",
    "* This function should return `True` if the sequence will **converge**.\n",
    "    * We're satisfied that the sequence converges if the terms are still small after `max_iterations` iterations. (The default value of `max_iterations` is 100)\n",
    "* This function should return `False` if the sequence will **diverge**.\n",
    "\n",
    "Remember, **`z`** is the initial value."
   ]
  },
  {
   "cell_type": "code",
   "execution_count": null,
   "metadata": {
    "collapsed": true
   },
   "outputs": [],
   "source": [
    "def is_small_forever(z, max_iterations=100):\n",
    "    for i in range(max_iterations):\n",
    "        if np.absolute(z) > ___: # Fill me in\n",
    "            # Fill me in\n",
    "        else\n",
    "            z = # Fill me in\n",
    "    return # Fill me in (We're out of the loop—what should we return?)"
   ]
  },
  {
   "cell_type": "markdown",
   "metadata": {},
   "source": [
    "Let's test it out."
   ]
  },
  {
   "cell_type": "code",
   "execution_count": null,
   "metadata": {
    "collapsed": false
   },
   "outputs": [],
   "source": [
    "w = complex(0.1, 0.4)\n",
    "\n",
    "is_small_forever(w)"
   ]
  },
  {
   "cell_type": "markdown",
   "metadata": {},
   "source": [
    "Run it a few more times for different values of **`w`**."
   ]
  },
  {
   "cell_type": "markdown",
   "metadata": {},
   "source": [
    "Notice that if we set `max_iterations` to a small value, `is_small_forever` will return `True`."
   ]
  },
  {
   "cell_type": "code",
   "execution_count": null,
   "metadata": {
    "collapsed": false
   },
   "outputs": [],
   "source": [
    "w = complex(0.3, 0.4)\n",
    "\n",
    "is_small_forever(w, 10)"
   ]
  },
  {
   "cell_type": "markdown",
   "metadata": {},
   "source": [
    "Now increase `max_iterations` until `is_small_forever` returns `False`. How many iterations are required?"
   ]
  },
  {
   "cell_type": "markdown",
   "metadata": {},
   "source": [
    "### Iterating complex-valued functions\n",
    "Suppose we plotted all the points in the complex plane for which `is_small_forever` returns `True`.\n",
    "\n",
    "A *Julia set* is the collection of all points in the complex plane that give rise to convergent sequences under our `square_and_subtract_one` rule.\n",
    "\n",
    "To plot a Julia set, we need to test *a lot* of points to see which ones result in sequences that stay small forever.\n",
    "\n",
    "I've provided a helper function, `iterate_function_on_grid`, that will aid in this process. This function has one required argument and five optional arguments.\n",
    "\n",
    "* **`f`**: The function to be iterated. In this case, we're going to use `is_small_forever`. (Required)\n",
    "* **`limit`**: The width of one quadrant of the complex plane (Optional; default = 2)\n",
    "* **`resolution`**: The number of points to test in each direction. This means that the total number of points tested will be this number squared. (Optional; default = 100)\n",
    "* **`max_iterations`**: The number of iterations after which we're satisfied that the sequence converges if the terms are still small. (Optional; default = 20)\n",
    "* **`zoom`**: When set to `True`, enables the following option. (Optional; default = `False`)\n",
    "* **`boundary_box`**: A list specifying the boundaries of the zoom window. The format is [`xmin`, `xmax`, `ymin`, `ymax`]. (Optional; default is [-`limit`, `limit`, -`limit`, `limit`])"
   ]
  },
  {
   "cell_type": "code",
   "execution_count": 610,
   "metadata": {
    "collapsed": false
   },
   "outputs": [],
   "source": [
    "# Generate the grid\n",
    "my_grid = iterate_function_on_grid(is_small_forever)"
   ]
  },
  {
   "cell_type": "markdown",
   "metadata": {},
   "source": [
    "I've also provided a helper function, `plot_complex_grid` to plot the results. It takes one required argument and one optional argument.\n",
    "\n",
    "* **`my_grid`**: The grid of points to be plotted. (Required)\n",
    "* **`color_gradient`**: The color scheme to use. (Optional; default=\"Purples\")\n",
    "    * Try any of [these](https://micropore.files.wordpress.com/2010/06/colormaps.png)!\n",
    "* **`zoom`**: When set to `True`, enables the following option. (Optional; default = `False`)\n",
    "* **`boundary_box`**: A list specifying the boundaries of the zoom window. The format is [`xmin`, `xmax`, `ymin`, `ymax`]. (Optional; default is [-`limit`, `limit`, -`limit`, `limit`])"
   ]
  },
  {
   "cell_type": "code",
   "execution_count": 611,
   "metadata": {
    "collapsed": false
   },
   "outputs": [
    {
     "data": {
      "image/png": "[encoded data removed]",
      "text/plain": [
       "<matplotlib.figure.Figure at 0x1467d2e80>"
      ]
     },
     "metadata": {},
     "output_type": "display_data"
    }
   ],
   "source": [
    "# Plot the grid\n",
    "plot_complex_grid(my_grid)"
   ]
  },
  {
   "cell_type": "markdown",
   "metadata": {},
   "source": [
    "Let's get a finer image by increasing the number of points to test and the maximum number of iterations."
   ]
  },
  {
   "cell_type": "code",
   "execution_count": 612,
   "metadata": {
    "collapsed": false
   },
   "outputs": [
    {
     "data": {
      "image/png": "[encoded data removed]",
      "text/plain": [
       "<matplotlib.figure.Figure at 0x131b99908>"
      ]
     },
     "metadata": {},
     "output_type": "display_data"
    }
   ],
   "source": [
    "# Generate the grid\n",
    "my_grid = iterate_function_on_grid(is_small_forever, limit=1.75, resolution=300, max_iterations=25)\n",
    "\n",
    "# Plot the grid\n",
    "plot_complex_grid(my_grid, color_gradient=\"Blues\")"
   ]
  },
  {
   "cell_type": "markdown",
   "metadata": {},
   "source": [
    "Let's zoom in on a smaller section and increase the precision even further."
   ]
  },
  {
   "cell_type": "code",
   "execution_count": 613,
   "metadata": {
    "collapsed": false
   },
   "outputs": [
    {
     "data": {
      "image/png": "[encoded data removed]",
      "text/plain": [
       "<matplotlib.figure.Figure at 0x13f834b00>"
      ]
     },
     "metadata": {},
     "output_type": "display_data"
    }
   ],
   "source": [
    "# Establish the viewing window\n",
    "zoom_box = [-1, 0, -0.5, 0.5]\n",
    "\n",
    "# Generate the grid inside the viewing window\n",
    "my_grid = iterate_function_on_grid(is_small_forever, resolution=500, max_iterations=30,\n",
    "                                   zoom=True, boundary_box=zoom_box)\n",
    "\n",
    "# Plot the grid inside the viewing window\n",
    "plot_complex_grid(my_grid, color_gradient=\"Blues\", zoom=True, boundary_box=zoom_box)"
   ]
  },
  {
   "cell_type": "markdown",
   "metadata": {},
   "source": [
    "### Your turn\n",
    "Generate a grid of your own and plot it below. You can try:\n",
    "* Zooming in on a feature that looks interesting\n",
    "* Changing the color scheme\n",
    "* Increasing the resolution (don't go too crazy - it might take a while to calculate!)"
   ]
  },
  {
   "cell_type": "code",
   "execution_count": null,
   "metadata": {
    "collapsed": true
   },
   "outputs": [],
   "source": []
  },
  {
   "cell_type": "markdown",
   "metadata": {},
   "source": [
    "### A more interesting picture\n",
    "What if, instead of just using two colors, we used **different shades based on the number of iterations before we're sure the sequence diverges**?\n",
    "\n",
    "First, we need to write a more general version of `is_small_forever`.\n",
    "\n",
    "Here are the inputs to the function:\n",
    "* **`z`**: The initial complex number\n",
    "* **`max_iterations`**: The number of iterations after which we're satisfied that the sequence converges if the terms are still small."
   ]
  },
  {
   "cell_type": "code",
   "execution_count": 614,
   "metadata": {
    "collapsed": true
   },
   "outputs": [],
   "source": [
    "def iterations_to_diverge(z, max_iterations):\n",
    "    for n in range(max_iterations):\n",
    "        if np.absolute(z) > 2:\n",
    "            return n\n",
    "        z = square_and_subtract_one(z)\n",
    "    return max_iterations"
   ]
  },
  {
   "cell_type": "markdown",
   "metadata": {},
   "source": [
    "Now we can pass this function to `iterate_function_on_grid` to generate the Julia set for our `square_and_subtract_one` rule."
   ]
  },
  {
   "cell_type": "code",
   "execution_count": null,
   "metadata": {
    "collapsed": false
   },
   "outputs": [],
   "source": [
    "# Generate the grid\n",
    "my_grid = iterate_function_on_grid(iterations_to_diverge)\n",
    "\n",
    "# Plot the grid\n",
    "plot_complex_grid(my_grid)"
   ]
  },
  {
   "cell_type": "markdown",
   "metadata": {},
   "source": [
    "We can change the color scheme easily."
   ]
  },
  {
   "cell_type": "code",
   "execution_count": null,
   "metadata": {
    "collapsed": false
   },
   "outputs": [],
   "source": [
    "plot_complex_grid(my_grid, color_gradient=\"Blues\")"
   ]
  },
  {
   "cell_type": "markdown",
   "metadata": {},
   "source": [
    "Let's get a finer image by increasing the number of points to test and the maximum number of iterations."
   ]
  },
  {
   "cell_type": "code",
   "execution_count": null,
   "metadata": {
    "collapsed": false
   },
   "outputs": [],
   "source": [
    "# Generate the grid\n",
    "my_grid = iterate_function_on_grid(iterations_to_diverge, limit=1.75, resolution=300, max_iterations=25)\n",
    "\n",
    "# Plot the grid\n",
    "plot_complex_grid(my_grid, color_gradient=\"bone\", zoom=True, boundary_box=zoom_box)"
   ]
  },
  {
   "cell_type": "markdown",
   "metadata": {},
   "source": [
    "Let's zoom in on a smaller section and increase the precision even further."
   ]
  },
  {
   "cell_type": "code",
   "execution_count": null,
   "metadata": {
    "collapsed": false
   },
   "outputs": [],
   "source": [
    "zoom_box = [-1, 0, -0.5, 0.5]\n",
    "\n",
    "my_grid = iterate_function_on_grid(iterations_to_diverge, resolution=500, max_iterations=35,\n",
    "                                   zoom=True, boundary_box=zoom_box)\n",
    "\n",
    "plot_complex_grid(my_grid, color_gradient=\"Accent\", zoom=True, boundary_box=zoom_box)"
   ]
  },
  {
   "cell_type": "markdown",
   "metadata": {},
   "source": [
    "Let's try a few of the different [colormaps](https://micropore.files.wordpress.com/2010/06/colormaps.png) from before. I'm a fan of these two:"
   ]
  },
  {
   "cell_type": "code",
   "execution_count": null,
   "metadata": {
    "collapsed": false
   },
   "outputs": [],
   "source": [
    "plot_complex_grid(my_grid, color_gradient=\"Spectral\", zoom=True, boundary_box=zoom_box)"
   ]
  },
  {
   "cell_type": "code",
   "execution_count": null,
   "metadata": {
    "collapsed": false
   },
   "outputs": [],
   "source": [
    "plot_complex_grid(my_grid, color_gradient=\"Paired\", zoom=True, boundary_box=zoom_box)"
   ]
  },
  {
   "cell_type": "markdown",
   "metadata": {},
   "source": [
    "### Your turn\n",
    "Using the functions above, generate a beautiful picture. I'd love to get a new profile picture for our class Twitter account."
   ]
  },
  {
   "cell_type": "code",
   "execution_count": null,
   "metadata": {
    "collapsed": true
   },
   "outputs": [],
   "source": []
  }
 ],
 "metadata": {
  "kernelspec": {
   "display_name": "Python 3",
   "language": "python",
   "name": "python3"
  },
  "language_info": {
   "codemirror_mode": {
    "name": "ipython",
    "version": 3
   },
   "file_extension": ".py",
   "mimetype": "text/x-python",
   "name": "python",
   "nbconvert_exporter": "python",
   "pygments_lexer": "ipython3",
   "version": "3.4.3"
  }
 },
 "nbformat": 4,
 "nbformat_minor": 0
}
